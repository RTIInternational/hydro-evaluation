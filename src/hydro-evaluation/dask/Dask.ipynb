{
 "cells": [
  {
   "cell_type": "code",
   "execution_count": null,
   "id": "8367950d",
   "metadata": {},
   "outputs": [],
   "source": [
    "%matplotlib inline\n",
    "\n",
    "from dask.distributed import Client\n",
    "import dask\n",
    "from map.generate_map_weights import *\n",
    "from datetime import datetime, timedelta\n",
    "import grids.config as config\n",
    "from grids.utils import get_cache_dir, make_parent_dir, profile"
   ]
  },
  {
   "cell_type": "code",
   "execution_count": null,
   "id": "8175309d",
   "metadata": {},
   "outputs": [],
   "source": [
    "client = Client()\n",
    "client"
   ]
  },
  {
   "cell_type": "code",
   "execution_count": null,
   "id": "ad47a685",
   "metadata": {},
   "outputs": [],
   "source": [
    "# Setup some criteria\n",
    "ingest_days = 1\n",
    "forecast_interval_hrs = 6\n",
    "start_dt = datetime(2023, 1, 1, 18) # First one is at 00Z in date\n",
    "td = timedelta(hours=forecast_interval_hrs)\n",
    "number_of_forecasts = 1 #int(ingest_days * 24/forecast_interval_hrs)"
   ]
  },
  {
   "cell_type": "code",
   "execution_count": null,
   "id": "6e935c85",
   "metadata": {},
   "outputs": [],
   "source": [
    "# Loop though forecasts, fetch and insert\n",
    "for f in range(number_of_forecasts):\n",
    "    reference_time = start_dt + td * f\n",
    "    ref_time_str = reference_time.strftime(\"%Y%m%dT%HZ\")\n",
    "\n",
    "    print(f\"Start download of {ref_time_str}\")\n",
    "\n",
    "    blob_list = list_blobs_forcing(\n",
    "        configuration = \"forcing_medium_range\",\n",
    "        reference_time = ref_time_str,\n",
    "        must_contain = \"forcing\"\n",
    "    )\n",
    "\n",
    "    # This can be used to run serial\n",
    "    dfs = []\n",
    "    for blob_name in blob_list:\n",
    "        df = dask.delayed(mp.calculate_map_forcing)(blob_name, use_cache=True)\n",
    "        dfs.append(df)\n",
    "    \n",
    "    # Join all timesteps into single pd.DataFrame\n",
    "    %time \n",
    "    results = dask.compute(*dfs)\n",
    "    df = pd.concat(results)\n",
    "\n",
    "    # Save as parquet file\n",
    "    parquet_filepath = os.path.join(config.MEDIUM_RANGE_PARQUET, f\"{ref_time_str}.parquet\")\n",
    "    make_parent_dir(parquet_filepath)\n",
    "    df.to_parquet(parquet_filepath)\n",
    "\n",
    "    # Print out some DataFrame stats\n",
    "    print(df.info(verbose=True, memory_usage='deep'))\n",
    "    print(df.memory_usage(index=True, deep=True))\n"
   ]
  },
  {
   "cell_type": "code",
   "execution_count": null,
   "id": "51451333",
   "metadata": {},
   "outputs": [],
   "source": []
  },
  {
   "cell_type": "code",
   "execution_count": null,
   "id": "5a5e8321",
   "metadata": {},
   "outputs": [],
   "source": []
  },
  {
   "cell_type": "code",
   "execution_count": null,
   "id": "4558e370",
   "metadata": {},
   "outputs": [],
   "source": []
  },
  {
   "cell_type": "code",
   "execution_count": null,
   "id": "d1e66ea9",
   "metadata": {},
   "outputs": [],
   "source": []
  }
 ],
 "metadata": {
  "kernelspec": {
   "display_name": "Python 3 (ipykernel)",
   "language": "python",
   "name": "python3"
  },
  "language_info": {
   "codemirror_mode": {
    "name": "ipython",
    "version": 3
   },
   "file_extension": ".py",
   "mimetype": "text/x-python",
   "name": "python",
   "nbconvert_exporter": "python",
   "pygments_lexer": "ipython3",
   "version": "3.10.6"
  }
 },
 "nbformat": 4,
 "nbformat_minor": 5
}
