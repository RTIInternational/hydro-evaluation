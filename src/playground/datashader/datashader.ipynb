{
 "cells": [
  {
   "cell_type": "code",
   "execution_count": null,
   "id": "e2953336-2ab8-47f6-a43e-02869fba8c02",
   "metadata": {},
   "outputs": [],
   "source": [
    "%matplotlib inline"
   ]
  },
  {
   "cell_type": "code",
   "execution_count": null,
   "id": "8b6350f6-32f4-41a0-8ca6-4da2446f2b20",
   "metadata": {},
   "outputs": [],
   "source": [
    "%%capture\n",
    "# uncomment to install spatial pandas once\n",
    "!pip install spatialpandas"
   ]
  },
  {
   "cell_type": "code",
   "execution_count": null,
   "id": "9883d86a-478c-4f43-a356-9ef988fa2a7a",
   "metadata": {},
   "outputs": [],
   "source": [
    "%%time\n",
    "import pandas as pd\n",
    "import geopandas as gpd\n",
    "huc10 = gpd.read_parquet('huc10.parq')"
   ]
  },
  {
   "cell_type": "code",
   "execution_count": null,
   "id": "323b7cab-92a0-49e8-a76e-3683ce862df2",
   "metadata": {},
   "outputs": [],
   "source": [
    "%%time\n",
    "huc10.plot(\"bias\")"
   ]
  },
  {
   "cell_type": "code",
   "execution_count": null,
   "id": "e0a11fd6-9620-4830-81f4-a651ffb76192",
   "metadata": {},
   "outputs": [],
   "source": [
    "%%time\n",
    "import spatialpandas as sp\n",
    "huc10 = sp.GeoDataFrame(huc10)"
   ]
  },
  {
   "cell_type": "code",
   "execution_count": null,
   "id": "9d0072be-cf51-41e2-b551-23bf0d959e00",
   "metadata": {},
   "outputs": [],
   "source": [
    "from dask.distributed import Client, LocalCluster\n",
    "cluster = LocalCluster()\n",
    "client = Client(cluster)\n",
    "cluster"
   ]
  },
  {
   "cell_type": "code",
   "execution_count": null,
   "id": "e8a7d31b-015c-4c5e-acb0-d83b02b9fb91",
   "metadata": {},
   "outputs": [],
   "source": [
    "%%time\n",
    "import dask.dataframe as dd\n",
    "ddf = dd.from_pandas(huc10, npartitions=8).pack_partitions(npartitions=8).persist()"
   ]
  },
  {
   "cell_type": "code",
   "execution_count": null,
   "id": "8b065a8f-dfb7-413b-99b6-21ab264b5ef0",
   "metadata": {},
   "outputs": [],
   "source": [
    "import datashader as ds\n",
    "import holoviews as hv\n",
    "\n",
    "hv.extension(\"bokeh\")"
   ]
  },
  {
   "cell_type": "code",
   "execution_count": null,
   "id": "8188eddc-dc29-4a8c-bd28-b2b3b5002618",
   "metadata": {},
   "outputs": [],
   "source": [
    "def callback(x_range, y_range):\n",
    "    cvs = ds.Canvas(plot_width=650, plot_height=400, x_range=x_range, y_range=y_range)\n",
    "    agg = cvs.polygons(ddf, geometry='geometry', agg=ds.mean('bias'))\n",
    "    return hv.Image(agg).opts(cmap=\"viridis\", tools=['hover']).opts(width=650, height=400)"
   ]
  },
  {
   "cell_type": "code",
   "execution_count": null,
   "id": "470a0e3c-c6b0-4b23-8651-5e36e82689d5",
   "metadata": {},
   "outputs": [],
   "source": [
    "hv.DynamicMap(\n",
    "    callback, streams=[hv.streams.RangeXY()]\n",
    ")"
   ]
  },
  {
   "cell_type": "markdown",
   "id": "36ffa922-7e21-473b-b813-2069a64eae34",
   "metadata": {},
   "source": [
    "# Thinking about hvplot (not working)"
   ]
  },
  {
   "cell_type": "code",
   "execution_count": null,
   "id": "bd6703ae-df98-4d54-8807-b43c4bcdc875",
   "metadata": {},
   "outputs": [],
   "source": [
    "# import numpy as np\n",
    "# import hvplot.pandas\n",
    "# import hvplot.xarray\n",
    "# import geoviews as gv\n",
    "# from holoviews.operation.datashader import rasterize\n",
    "# import cartopy.crs as ccrs"
   ]
  },
  {
   "cell_type": "code",
   "execution_count": null,
   "id": "a739688f-d8a5-4e2d-9cc9-904ec8d564cf",
   "metadata": {},
   "outputs": [],
   "source": [
    "# p = huc10.hvplot.polygons(c='bias')"
   ]
  },
  {
   "cell_type": "code",
   "execution_count": null,
   "id": "cb84e4e3-b9e2-46ae-bb11-b0b111a54e3a",
   "metadata": {},
   "outputs": [],
   "source": [
    "# g = rasterize(p, aggregator='mean', x_sampling=0.02, y_sampling=0.02, width=500).opts(tools=['hover'],\n",
    "#                 aspect='equal', logz=True, cmap='viridis', clim=(1e-2, np.nan))"
   ]
  },
  {
   "cell_type": "code",
   "execution_count": null,
   "id": "9439d6d7-7bd4-484e-96a5-07a75af644c9",
   "metadata": {},
   "outputs": [],
   "source": [
    "# g * gv.tile_sources.OSM"
   ]
  },
  {
   "cell_type": "code",
   "execution_count": null,
   "id": "bc259743-62b1-488c-9497-8d7c2abb678b",
   "metadata": {},
   "outputs": [],
   "source": []
  }
 ],
 "metadata": {
  "kernelspec": {
   "display_name": "Python 3 (ipykernel)",
   "language": "python",
   "name": "python3"
  },
  "language_info": {
   "codemirror_mode": {
    "name": "ipython",
    "version": 3
   },
   "file_extension": ".py",
   "mimetype": "text/x-python",
   "name": "python",
   "nbconvert_exporter": "python",
   "pygments_lexer": "ipython3",
   "version": "3.10.8"
  }
 },
 "nbformat": 4,
 "nbformat_minor": 5
}
