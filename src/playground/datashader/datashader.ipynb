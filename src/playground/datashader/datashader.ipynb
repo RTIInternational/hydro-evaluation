{
 "cells": [
  {
   "cell_type": "code",
   "execution_count": null,
   "id": "e2953336-2ab8-47f6-a43e-02869fba8c02",
   "metadata": {},
   "outputs": [],
   "source": [
    "%matplotlib inline\n",
    "\n",
    "# adding project dirs to path so code may be referenced from the notebook\n",
    "import sys\n",
    "sys.path.insert(0, '../../evaluation')\n",
    "sys.path.insert(0, '../../evaluation/queries')"
   ]
  },
  {
   "cell_type": "code",
   "execution_count": null,
   "id": "8b6350f6-32f4-41a0-8ca6-4da2446f2b20",
   "metadata": {},
   "outputs": [],
   "source": [
    "%%capture\n",
    "!pip install duckdb\n",
    "!pip install spatialpandas"
   ]
  },
  {
   "cell_type": "code",
   "execution_count": null,
   "id": "f7ef570f-5f38-416f-a7c7-56889c546b77",
   "metadata": {},
   "outputs": [],
   "source": [
    "import duckdb\n",
    "import pandas as pd\n",
    "import geopandas as gpd\n",
    "import matplotlib.pyplot as plt\n",
    "import config\n",
    "import utils\n",
    "\n",
    "# Query some forcast data from parquet files\n",
    "import importlib\n",
    "import queries\n",
    "importlib.reload(queries)"
   ]
  },
  {
   "cell_type": "code",
   "execution_count": null,
   "id": "c412a7a2-8f22-4826-a31d-b54784ce18a7",
   "metadata": {},
   "outputs": [],
   "source": [
    "import dask.dataframe as dd\n",
    "import colorcet as cc\n",
    "import datashader as ds\n",
    "import datashader.transfer_functions as tf\n",
    "import spatialpandas as sp\n",
    "import spatialpandas.geometry\n",
    "import spatialpandas.dask \n",
    "\n",
    "from dask.distributed import Client, LocalCluster\n",
    "\n",
    "import holoviews as hv\n",
    "from holoviews.operation.datashader import rasterize\n",
    "from holoviews.streams import PlotSize\n",
    "PlotSize.scale=2 # Sharper plots on Retina displays\n",
    "hv.extension(\"bokeh\")\n"
   ]
  },
  {
   "cell_type": "code",
   "execution_count": null,
   "id": "f3413de1-b7fb-4a74-97d0-ae0e5f2b8c03",
   "metadata": {},
   "outputs": [],
   "source": [
    "cluster = LocalCluster(n_workers=8, threads_per_worker=2)\n",
    "client = Client(cluster)\n",
    "cluster"
   ]
  },
  {
   "cell_type": "code",
   "execution_count": null,
   "id": "b6195af9-d673-4dd2-b1cb-595dba5c1011",
   "metadata": {},
   "outputs": [],
   "source": [
    "%%time\n",
    "basins_gdf = utils.parquet_to_gdf(config.HUC10_PARQUET_FILEPATH)"
   ]
  },
  {
   "cell_type": "code",
   "execution_count": null,
   "id": "e9b54fe0-f112-4a4e-969b-e82ecab7f23e",
   "metadata": {},
   "outputs": [],
   "source": [
    "%%time\n",
    "query = queries.calculate_catchment_metrics(\n",
    "    config.MEDIUM_RANGE_FORCING_PARQUET,\n",
    "    config.FORCING_ANALYSIS_ASSIM_PARQUET,\n",
    "    group_by=[\"catchment_id\"],\n",
    "    order_by=[\"observed_average\"],\n",
    "    filters=[\n",
    "        # {\n",
    "        #     \"column\": \"catchment_id\",\n",
    "        #     \"operator\": \"like\",\n",
    "        #     \"value\": \"18%\"\n",
    "        # },\n",
    "        {\n",
    "            \"column\": \"reference_time\",\n",
    "            \"operator\": \"=\",\n",
    "            \"value\": \"2023-01-03 12:00:00\"\n",
    "        },\n",
    "    ]\n",
    ")\n",
    "df = duckdb.query(query).to_df()\n",
    "# df"
   ]
  },
  {
   "cell_type": "code",
   "execution_count": null,
   "id": "6ad8695c-de2f-4b5c-94cb-8b6bef6ffb13",
   "metadata": {},
   "outputs": [],
   "source": [
    "%%time\n",
    "# Join query to basins\n",
    "gdf_map = basins_gdf.merge(df, left_on=\"huc10\", right_on=\"catchment_id\")"
   ]
  },
  {
   "cell_type": "code",
   "execution_count": null,
   "id": "12174e51-bca2-47d4-8e3d-86757bc36c3d",
   "metadata": {},
   "outputs": [],
   "source": [
    "%%time\n",
    "# convert to spatial pandas\n",
    "spdf_map = sp.GeoDataFrame(gdf_map)"
   ]
  },
  {
   "cell_type": "code",
   "execution_count": null,
   "id": "016e8ebd-bb4c-4eeb-852b-d03be6fa63ae",
   "metadata": {},
   "outputs": [],
   "source": [
    "%%time\n",
    "# convert to dask dataframe\n",
    "ddf = dd.from_pandas(spdf_map, npartitions=8).pack_partitions(npartitions=100).persist()"
   ]
  },
  {
   "cell_type": "code",
   "execution_count": null,
   "id": "88b095a6-7fc7-4e7d-a52b-269cf69db81c",
   "metadata": {},
   "outputs": [],
   "source": [
    "df = df.repartition(partition_size=\"256MiB\").persist()"
   ]
  },
  {
   "cell_type": "code",
   "execution_count": null,
   "id": "22d74f33-8d7a-4dc1-9afd-ae1b7dc99236",
   "metadata": {},
   "outputs": [],
   "source": [
    "%%time\n",
    "cvs = ds.Canvas(plot_width=650, plot_height=400)\n",
    "agg = cvs.polygons(ddf, geometry='geometry', agg=ds.mean('bias'))\n",
    "tf.shade(agg, cmap=cc.bgy)"
   ]
  },
  {
   "cell_type": "code",
   "execution_count": null,
   "id": "7f1c8cb2-2319-42ee-9fb0-1c7465d9e90a",
   "metadata": {},
   "outputs": [],
   "source": [
    "%%time\n",
    "cvs = ds.Canvas(plot_width=650, plot_height=400)\n",
    "agg = cvs.polygons(spdf_map, geometry='geometry', agg=ds.mean('bias'))\n",
    "tf.shade(agg)"
   ]
  },
  {
   "cell_type": "code",
   "execution_count": null,
   "id": "7e4d71b4-237a-443f-9b6a-a350ce78241f",
   "metadata": {},
   "outputs": [],
   "source": [
    "%%time\n",
    "# make a dask dataframe\n",
    "ddf = dd.from_pandas(spdf_map, npartitions=2).pack_partitions(npartitions=100).persist()"
   ]
  },
  {
   "cell_type": "code",
   "execution_count": null,
   "id": "9f347afc-8614-476b-a5f5-beb0c77f42ef",
   "metadata": {},
   "outputs": [],
   "source": [
    "tf.shade(cvs.polygons(ddf, geometry='geometry', agg=ds.mean('bias')), cmap=cc.kg)"
   ]
  },
  {
   "cell_type": "code",
   "execution_count": null,
   "id": "2e9d77e8-394d-41b6-a413-79ea530151c2",
   "metadata": {},
   "outputs": [],
   "source": []
  }
 ],
 "metadata": {
  "kernelspec": {
   "display_name": "Python 3 (ipykernel)",
   "language": "python",
   "name": "python3"
  },
  "language_info": {
   "codemirror_mode": {
    "name": "ipython",
    "version": 3
   },
   "file_extension": ".py",
   "mimetype": "text/x-python",
   "name": "python",
   "nbconvert_exporter": "python",
   "pygments_lexer": "ipython3",
   "version": "3.10.8"
  }
 },
 "nbformat": 4,
 "nbformat_minor": 5
}
