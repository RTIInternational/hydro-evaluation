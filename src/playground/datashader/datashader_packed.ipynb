{
 "cells": [
  {
   "cell_type": "code",
   "execution_count": null,
   "id": "e2953336-2ab8-47f6-a43e-02869fba8c02",
   "metadata": {},
   "outputs": [],
   "source": [
    "%matplotlib inline"
   ]
  },
  {
   "cell_type": "code",
   "execution_count": null,
   "id": "9d0072be-cf51-41e2-b551-23bf0d959e00",
   "metadata": {},
   "outputs": [],
   "source": [
    "from dask.distributed import Client, LocalCluster\n",
    "cluster = LocalCluster()\n",
    "client = Client(cluster)\n",
    "cluster"
   ]
  },
  {
   "cell_type": "code",
   "execution_count": null,
   "id": "5c8b39ee-80ac-417f-b9f1-f256c44c1123",
   "metadata": {},
   "outputs": [],
   "source": [
    "from spatialpandas.io import read_parquet_dask\n",
    "world_packed_loaded = read_parquet_dask('huc10_metric_packed.parq')"
   ]
  },
  {
   "cell_type": "code",
   "execution_count": null,
   "id": "8b065a8f-dfb7-413b-99b6-21ab264b5ef0",
   "metadata": {},
   "outputs": [],
   "source": [
    "import datashader as ds\n",
    "import holoviews as hv\n",
    "\n",
    "hv.extension(\"bokeh\")"
   ]
  },
  {
   "cell_type": "code",
   "execution_count": null,
   "id": "470a0e3c-c6b0-4b23-8651-5e36e82689d5",
   "metadata": {},
   "outputs": [],
   "source": [
    "def callback(x_range, y_range):\n",
    "    cvs = ds.Canvas(plot_width=650, plot_height=400, x_range=x_range, y_range=y_range)\n",
    "    agg = cvs.polygons(ddf, geometry='geometry', agg=ds.mean('bias'))\n",
    "    return hv.Image(agg).opts(cmap=\"viridis\", tools=['hover']).opts(width=650, height=400)\n",
    "\n",
    "hv.DynamicMap(\n",
    "    callback, streams=[hv.streams.RangeXY()]\n",
    ")"
   ]
  }
 ],
 "metadata": {
  "kernelspec": {
   "display_name": "Python 3 (ipykernel)",
   "language": "python",
   "name": "python3"
  },
  "language_info": {
   "codemirror_mode": {
    "name": "ipython",
    "version": 3
   },
   "file_extension": ".py",
   "mimetype": "text/x-python",
   "name": "python",
   "nbconvert_exporter": "python",
   "pygments_lexer": "ipython3",
   "version": "3.10.8"
  }
 },
 "nbformat": 4,
 "nbformat_minor": 5
}
