{
 "cells": [
  {
   "cell_type": "code",
   "execution_count": null,
   "id": "c8a88d62-8a46-4f48-a0ee-bd66bb3bad09",
   "metadata": {},
   "outputs": [],
   "source": [
    "import os\n",
    "import shutil\n",
    "import fsspec\n",
    "import ujson\n",
    "from kerchunk.hdf import SingleHdf5ToZarr\n",
    "from kerchunk.combine import MultiZarrToZarr\n",
    "import xarray as xr\n",
    "import dask\n",
    "import hvplot.xarray\n",
    "from datetime import datetime, timedelta"
   ]
  },
  {
   "cell_type": "code",
   "execution_count": null,
   "id": "9a6a89eb-5213-4a29-92ca-fe942c5f21d2",
   "metadata": {},
   "outputs": [],
   "source": [
    "from dask.distributed import Client, LocalCluster, progress\n",
    "\n",
    "cluster = LocalCluster()\n",
    "client = Client(cluster)\n",
    "client"
   ]
  },
  {
   "cell_type": "code",
   "execution_count": null,
   "id": "cba53e5c-a865-4599-aaac-74a447e61ad3",
   "metadata": {},
   "outputs": [],
   "source": [
    "# adding project dirs to path so code may be referenced from the notebook\n",
    "import sys\n",
    "sys.path.insert(0, '../../evaluation')\n",
    "sys.path.insert(0, '../../evaluation/queries')\n",
    "sys.path.insert(0, '../../evaluation/loading')\n"
   ]
  },
  {
   "cell_type": "code",
   "execution_count": null,
   "id": "75f801aa-28b1-4562-b398-b29f103a9b2a",
   "metadata": {},
   "outputs": [],
   "source": [
    "# Query some forcast data from parquet files\n",
    "import importlib\n",
    "import queries\n",
    "import config\n",
    "import utils\n",
    "importlib.reload(queries)\n",
    "importlib.reload(config)\n",
    "importlib.reload(utils)\n",
    "import grid_to_parquet\n",
    "importlib.reload(grid_to_parquet)\n",
    "from datetime import datetime, timedelta"
   ]
  },
  {
   "cell_type": "code",
   "execution_count": null,
   "id": "2ae2d070-0896-4bdf-94e9-36940a6b9602",
   "metadata": {},
   "outputs": [],
   "source": [
    "# Setup some criteria\n",
    "ingest_days = 30\n",
    "start_dt = datetime(2022, 12, 18, 6) # First one is at 00Z in date\n",
    "td = timedelta(hours=6)\n",
    "number_of_forecasts = 1 #ingest_days * 4"
   ]
  },
  {
   "cell_type": "code",
   "execution_count": null,
   "id": "34d29c19-5b5e-471e-8130-a3da5c44b7aa",
   "metadata": {},
   "outputs": [],
   "source": [
    "fs = fsspec.filesystem('gcs', anon=True)\n",
    "fs2 = fsspec.filesystem('')"
   ]
  },
  {
   "cell_type": "code",
   "execution_count": null,
   "id": "b34120b4-7e60-472c-8f02-4f91f557449d",
   "metadata": {},
   "outputs": [],
   "source": [
    "json_dir = 'jsons/'\n",
    "\n",
    "if not os.path.exists(json_dir):\n",
    "    os.makedirs(json_dir)"
   ]
  },
  {
   "cell_type": "code",
   "execution_count": null,
   "id": "d06442ae-6182-4f1c-8af1-f58555ac32ee",
   "metadata": {},
   "outputs": [],
   "source": [
    "so = dict(mode='rb', anon=True, default_fill_cache=False, default_cache_type='first') # args to fs.open()\n",
    "# default_fill_cache=False avoids caching data in between file chunks to lowers memory usage."
   ]
  },
  {
   "cell_type": "code",
   "execution_count": null,
   "id": "9623b068-7efc-436c-9a36-fd4a9bd2a0d6",
   "metadata": {},
   "outputs": [],
   "source": [
    "def gen_json(u):\n",
    "    with fs.open(u, **so) as infile:\n",
    "        h5chunks = SingleHdf5ToZarr(infile, u, inline_threshold=300)\n",
    "        p = u.split('/')\n",
    "        date = p[3]\n",
    "        fname = p[5]\n",
    "        outf = f'{json_dir}{date}.{fname}.json'\n",
    "        with open(outf, 'wb') as f:\n",
    "            f.write(ujson.dumps(h5chunks.translate()).encode());"
   ]
  },
  {
   "cell_type": "code",
   "execution_count": null,
   "id": "f443a30b-65d7-4932-95fb-5ef46464f8d6",
   "metadata": {},
   "outputs": [],
   "source": [
    "%%time\n",
    "print(datetime.now())\n",
    "# Loop though forecasts, fetch and insert\n",
    "for f in range(number_of_forecasts):\n",
    "    reference_time = start_dt + td * f\n",
    "    ref_time_str = reference_time.strftime(\"%Y%m%dT%HZ\")\n",
    "    configuration = \"medium_range_mem1\"\n",
    "\n",
    "    print(f\"Start download of {ref_time_str}\")\n",
    "\n",
    "    blob_list = grid_to_parquet.list_blobs_forcing(\n",
    "        configuration=configuration,\n",
    "        reference_time = ref_time_str,\n",
    "        must_contain = \"channel_rt\"\n",
    "    )\n",
    "    \n",
    "    blob_list = [f\"gcs://national-water-model/{b}\" for b in blob_list]\n",
    "    \n",
    "    results = dask.compute(*[dask.delayed(gen_json)(u) for u in blob_list], retries=10)\n",
    "    "
   ]
  },
  {
   "cell_type": "code",
   "execution_count": null,
   "id": "405b6c46-4e93-4506-a80a-7082c1c1ea0c",
   "metadata": {},
   "outputs": [],
   "source": [
    "json_list = fs2.glob(f'{json_dir}/nwm.20221218.nwm.t06z*.json')\n",
    "json_list = sorted(json_list)"
   ]
  },
  {
   "cell_type": "code",
   "execution_count": null,
   "id": "e3fb25c5-0db9-41f2-b9be-35ab3a4a174f",
   "metadata": {},
   "outputs": [],
   "source": [
    "mzz = MultiZarrToZarr(json_list,\n",
    "        remote_protocol='gcs',\n",
    "        remote_options={'anon':True},\n",
    "        concat_dims=['time'],\n",
    "        identical_dims = ['x', 'y'],\n",
    "    )"
   ]
  },
  {
   "cell_type": "code",
   "execution_count": null,
   "id": "a5d5bea4-a37c-428d-834b-104f9b5a4f05",
   "metadata": {},
   "outputs": [],
   "source": [
    "%%time\n",
    "mzz.translate('nwm.json')"
   ]
  },
  {
   "cell_type": "code",
   "execution_count": null,
   "id": "27c96003-e99a-4d10-90fe-7eb981f5472b",
   "metadata": {},
   "outputs": [],
   "source": [
    "backend_args = { \"consolidated\": False,\n",
    "                 \"storage_options\": { \"fo\": 'nwm.json',\n",
    "                                \"remote_protocol\": \"gcs\", \n",
    "                                \"remote_options\": {'anon':True} }}\n",
    "ds = xr.open_dataset(\n",
    "    \"reference://\", engine=\"zarr\",\n",
    "    backend_kwargs=backend_args\n",
    ")"
   ]
  },
  {
   "cell_type": "code",
   "execution_count": null,
   "id": "02c9cab5-4788-4791-ab61-de9304c500d0",
   "metadata": {},
   "outputs": [],
   "source": [
    "ds"
   ]
  },
  {
   "cell_type": "code",
   "execution_count": null,
   "id": "44dc9361-f6f2-410d-b089-4387d943f519",
   "metadata": {},
   "outputs": [],
   "source": [
    "rl_gdf = utils.parquet_to_gdf(config.ROUTE_LINK_PARQUET)\n",
    "rl_gdf"
   ]
  },
  {
   "cell_type": "code",
   "execution_count": null,
   "id": "811cd2b7-6fb8-4afc-8814-1065a723bd07",
   "metadata": {},
   "outputs": [],
   "source": [
    "var = 'streamflow'\n",
    "var_mean = ds[var].mean(dim=['time']).persist()"
   ]
  },
  {
   "cell_type": "code",
   "execution_count": null,
   "id": "2697d388-0c0f-4258-9d45-0396ea6cd085",
   "metadata": {},
   "outputs": [],
   "source": [
    "df = var_mean.to_dataframe()"
   ]
  },
  {
   "cell_type": "code",
   "execution_count": null,
   "id": "8980745a-8394-4460-965b-b354ce6fa117",
   "metadata": {},
   "outputs": [],
   "source": [
    "df"
   ]
  },
  {
   "cell_type": "code",
   "execution_count": null,
   "id": "66f30a97-a73d-4b82-9d20-41528c67ea0f",
   "metadata": {},
   "outputs": [],
   "source": [
    "rl_gdf"
   ]
  },
  {
   "cell_type": "code",
   "execution_count": null,
   "id": "eab305dd-062c-4bdf-a5e9-7e97a3b97c97",
   "metadata": {},
   "outputs": [],
   "source": [
    "df.reset_index(inplace=True)"
   ]
  },
  {
   "cell_type": "code",
   "execution_count": null,
   "id": "1bea3891-2f66-46e8-9a98-632db24c0948",
   "metadata": {},
   "outputs": [],
   "source": [
    "df2 = df.merge(rl_gdf, left_on=\"feature_id\", right_on=\"nwm_feature_id\")"
   ]
  },
  {
   "cell_type": "code",
   "execution_count": null,
   "id": "81063b54-5c7f-4fc5-8298-b307907c5979",
   "metadata": {},
   "outputs": [],
   "source": [
    "df2"
   ]
  },
  {
   "cell_type": "code",
   "execution_count": null,
   "id": "510181c5-74a3-4560-a94a-7ad70c4d4670",
   "metadata": {},
   "outputs": [],
   "source": [
    "import numpy as np\n",
    "import hvplot.pandas\n",
    "import hvplot.xarray\n",
    "import geoviews as gv\n",
    "from holoviews.operation.datashader import rasterize\n",
    "import cartopy.crs as ccrs"
   ]
  },
  {
   "cell_type": "code",
   "execution_count": null,
   "id": "ac0b08c0-a5c8-42c2-ac46-da0e01daa167",
   "metadata": {},
   "outputs": [],
   "source": [
    "p = df2.hvplot.points('longitude', 'latitude', crs=ccrs.PlateCarree(),\n",
    "                     c='streamflow', colorbar=True, size=14, cmap='viridis')"
   ]
  },
  {
   "cell_type": "code",
   "execution_count": null,
   "id": "31d8146e-9a32-4424-be37-fa203a136f5a",
   "metadata": {},
   "outputs": [],
   "source": [
    "g = rasterize(p, aggregator='mean', x_sampling=0.02, y_sampling=0.02, width=500).opts(tools=['hover'],\n",
    "                aspect='equal', logz=True, cmap='viridis', clim=(1e-2, np.nan))"
   ]
  },
  {
   "cell_type": "code",
   "execution_count": null,
   "id": "96c5693b-06da-4bc0-aa91-4820667ca320",
   "metadata": {},
   "outputs": [],
   "source": [
    "g * gv.tile_sources.OSM"
   ]
  },
  {
   "cell_type": "code",
   "execution_count": null,
   "id": "94c054f4-7f01-4bc9-aa5f-5f459b207b6f",
   "metadata": {},
   "outputs": [],
   "source": []
  }
 ],
 "metadata": {
  "kernelspec": {
   "display_name": "Python 3 (ipykernel)",
   "language": "python",
   "name": "python3"
  },
  "language_info": {
   "codemirror_mode": {
    "name": "ipython",
    "version": 3
   },
   "file_extension": ".py",
   "mimetype": "text/x-python",
   "name": "python",
   "nbconvert_exporter": "python",
   "pygments_lexer": "ipython3",
   "version": "3.10.8"
  }
 },
 "nbformat": 4,
 "nbformat_minor": 5
}
