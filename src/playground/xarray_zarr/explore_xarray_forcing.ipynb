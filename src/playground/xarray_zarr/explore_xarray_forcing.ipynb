{
 "cells": [
  {
   "cell_type": "code",
   "execution_count": null,
   "id": "c8a88d62-8a46-4f48-a0ee-bd66bb3bad09",
   "metadata": {},
   "outputs": [],
   "source": [
    "import os\n",
    "import shutil\n",
    "import fsspec\n",
    "import ujson\n",
    "from kerchunk.hdf import SingleHdf5ToZarr\n",
    "from kerchunk.combine import MultiZarrToZarr\n",
    "import xarray as xr\n",
    "import dask\n",
    "import hvplot.xarray\n",
    "from datetime import datetime, timedelta\n",
    "import pandas as pd\n",
    "import pickle"
   ]
  },
  {
   "cell_type": "code",
   "execution_count": null,
   "id": "9a6a89eb-5213-4a29-92ca-fe942c5f21d2",
   "metadata": {},
   "outputs": [],
   "source": [
    "from dask.distributed import Client, LocalCluster, progress\n",
    "\n",
    "cluster = LocalCluster()\n",
    "client = Client(cluster)\n",
    "client"
   ]
  },
  {
   "cell_type": "code",
   "execution_count": null,
   "id": "cba53e5c-a865-4599-aaac-74a447e61ad3",
   "metadata": {},
   "outputs": [],
   "source": [
    "# adding project dirs to path so code may be referenced from the notebook\n",
    "import sys\n",
    "sys.path.insert(0, '../../evaluation')\n",
    "sys.path.insert(0, '../../evaluation/queries')\n",
    "sys.path.insert(0, '../../evaluation/loading')"
   ]
  },
  {
   "cell_type": "code",
   "execution_count": null,
   "id": "75f801aa-28b1-4562-b398-b29f103a9b2a",
   "metadata": {},
   "outputs": [],
   "source": [
    "# Query some forcast data from parquet files\n",
    "import importlib\n",
    "import queries\n",
    "import config\n",
    "import utils as hu\n",
    "importlib.reload(queries)\n",
    "importlib.reload(config)\n",
    "importlib.reload(hu)\n",
    "import grid_to_parquet\n",
    "importlib.reload(grid_to_parquet)\n",
    "from datetime import datetime, timedelta"
   ]
  },
  {
   "cell_type": "code",
   "execution_count": null,
   "id": "2ae2d070-0896-4bdf-94e9-36940a6b9602",
   "metadata": {},
   "outputs": [],
   "source": [
    "# Setup some criteria\n",
    "ingest_days = 30\n",
    "start_dt = datetime(2022, 12, 18, 6) # First one is at 00Z in date\n",
    "td = timedelta(hours=6)\n",
    "number_of_forecasts = 1 #ingest_days * 4"
   ]
  },
  {
   "cell_type": "code",
   "execution_count": null,
   "id": "34d29c19-5b5e-471e-8130-a3da5c44b7aa",
   "metadata": {},
   "outputs": [],
   "source": [
    "fs = fsspec.filesystem('gcs', anon=True)\n",
    "fs2 = fsspec.filesystem('')"
   ]
  },
  {
   "cell_type": "code",
   "execution_count": null,
   "id": "b34120b4-7e60-472c-8f02-4f91f557449d",
   "metadata": {},
   "outputs": [],
   "source": [
    "json_dir = 'forcing_jsons/'\n",
    "\n",
    "if not os.path.exists(json_dir):\n",
    "    os.makedirs(json_dir)"
   ]
  },
  {
   "cell_type": "code",
   "execution_count": null,
   "id": "d06442ae-6182-4f1c-8af1-f58555ac32ee",
   "metadata": {},
   "outputs": [],
   "source": [
    "so = dict(mode='rb', anon=True, default_fill_cache=False, default_cache_type='first') # args to fs.open()\n",
    "# default_fill_cache=False avoids caching data in between file chunks to lowers memory usage."
   ]
  },
  {
   "cell_type": "code",
   "execution_count": null,
   "id": "9623b068-7efc-436c-9a36-fd4a9bd2a0d6",
   "metadata": {},
   "outputs": [],
   "source": [
    "def gen_json(u):\n",
    "    with fs.open(u, **so) as infile:\n",
    "        h5chunks = SingleHdf5ToZarr(infile, u, inline_threshold=300)\n",
    "        p = u.split('/')\n",
    "        date = p[3]\n",
    "        fname = p[5]\n",
    "        outf = f'{json_dir}{date}.{fname}.json'\n",
    "        with open(outf, 'wb') as f:\n",
    "            f.write(ujson.dumps(h5chunks.translate()).encode());"
   ]
  },
  {
   "cell_type": "code",
   "execution_count": null,
   "id": "f443a30b-65d7-4932-95fb-5ef46464f8d6",
   "metadata": {},
   "outputs": [],
   "source": [
    "%%time\n",
    "print(datetime.now())\n",
    "# Loop though forecasts, fetch and insert\n",
    "for f in range(number_of_forecasts):\n",
    "    reference_time = start_dt + td * f\n",
    "    ref_time_str = reference_time.strftime(\"%Y%m%dT%HZ\")\n",
    "    configuration = \"forcing_medium_range\"\n",
    "\n",
    "    print(f\"Start download of {ref_time_str}\")\n",
    "\n",
    "    blob_list = grid_to_parquet.list_blobs_forcing(\n",
    "        configuration=configuration,\n",
    "        reference_time = ref_time_str,\n",
    "        must_contain = \"forcing\"\n",
    "    )\n",
    "    \n",
    "    blob_list = [f\"gcs://national-water-model/{b}\" for b in blob_list]\n",
    "    \n",
    "    results = dask.compute(*[dask.delayed(gen_json)(u) for u in blob_list], retries=10)\n",
    "    "
   ]
  },
  {
   "cell_type": "code",
   "execution_count": null,
   "id": "27c96003-e99a-4d10-90fe-7eb981f5472b",
   "metadata": {},
   "outputs": [],
   "source": [
    "backend_args = { \"consolidated\": False,\n",
    "                 \"storage_options\": { \"fo\": 'forcing_jsons/nwm.20221218.nwm.t06z.medium_range.forcing.f001.conus.nc.json',\n",
    "                                \"remote_protocol\": \"gcs\", \n",
    "                                \"remote_options\": {'anon':True} }}\n",
    "ds = xr.open_dataset(\n",
    "    \"reference://\", engine=\"zarr\",\n",
    "    backend_kwargs=backend_args\n",
    ")"
   ]
  },
  {
   "cell_type": "code",
   "execution_count": null,
   "id": "02c9cab5-4788-4791-ab61-de9304c500d0",
   "metadata": {},
   "outputs": [],
   "source": [
    "%%time\n",
    "src = ds[\"RAINRATE\"].persist()"
   ]
  },
  {
   "cell_type": "code",
   "execution_count": null,
   "id": "04cfb40d-7bd1-4451-862e-2f806adacddf",
   "metadata": {},
   "outputs": [],
   "source": [
    "%%time\n",
    "df = grid_to_parquet.calc_zonal_stats_weights(\n",
    "    src=src,\n",
    "    weights_filepath=config.HUC10_MEDIUM_RANGE_WEIGHTS_FILEPATH\n",
    ")\n",
    "df"
   ]
  },
  {
   "cell_type": "code",
   "execution_count": null,
   "id": "e69cdbfb-906e-4e27-b701-3d172d9cde00",
   "metadata": {},
   "outputs": [],
   "source": []
  }
 ],
 "metadata": {
  "kernelspec": {
   "display_name": "Python 3 (ipykernel)",
   "language": "python",
   "name": "python3"
  },
  "language_info": {
   "codemirror_mode": {
    "name": "ipython",
    "version": 3
   },
   "file_extension": ".py",
   "mimetype": "text/x-python",
   "name": "python",
   "nbconvert_exporter": "python",
   "pygments_lexer": "ipython3",
   "version": "3.10.8"
  }
 },
 "nbformat": 4,
 "nbformat_minor": 5
}
