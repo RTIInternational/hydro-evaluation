{
 "cells": [
  {
   "cell_type": "markdown",
   "id": "3f7ab881-23f9-44df-bc72-736f6835ad4a",
   "metadata": {},
   "source": [
    "## Explore downloading and formatting operational NWM streamflow forecasts from GCS"
   ]
  },
  {
   "cell_type": "markdown",
   "id": "43baaa27-a0ff-4408-9870-295488cc3dc5",
   "metadata": {},
   "source": [
    "##### This notebook demonstrates the use of a utility to download NWM streamflow forecasts from the GCS bucket using a standardized data model"
   ]
  },
  {
   "cell_type": "code",
   "execution_count": null,
   "id": "82622846-8694-4b28-815d-616167b08e87",
   "metadata": {},
   "outputs": [],
   "source": [
    "from nwm_to_parquet_sam import nwm_to_parquet"
   ]
  },
  {
   "cell_type": "markdown",
   "id": "0eaeb1c7-03dc-4ea6-99ac-8c8cbbc7df65",
   "metadata": {},
   "source": [
    "##### To download the data, you must first specify a number of parameters:\n",
    "`gcs_dir` (str) - GCS directory of the operational NWM data\n",
    "\n",
    "`configuration` (str) - NWM forecast category\n",
    "\n",
    "`component` (str) - Component of the NWM forecast category\n",
    "\n",
    "`ingest_days` (int) - Number for days to ingest beginning from the start date\n",
    "\n",
    "`start_date` (str) - Beginning date defining data ingestion time period\n",
    "\n",
    "`variable_name` (str) - Name of the NWM data variable to download\n",
    "\n",
    "`multifile_filepath` (str) - Name of the kerchunk combined reference file\n",
    "\n",
    "`json_dir` (str) - Path to the directory for the kerchunk reference files\n",
    "\n",
    "`output_parquet_dir` (str) - Path to the directory for the final parquet files\n",
    "\n",
    "`location_ids` (np.array) - Array specifying NWM IDs of interest"
   ]
  },
  {
   "cell_type": "code",
   "execution_count": null,
   "id": "728f7016-a23e-4e34-9dc9-6271153d831b",
   "metadata": {},
   "outputs": [],
   "source": [
    "gcs_dir = \"gcs://national-water-model\"\n",
    "configuration = \"medium_range_mem1\"\n",
    "component = \"channel_rt\"\n",
    "ingest_days = 1\n",
    "start_date = \"2022-12-18\"\n",
    "variable_name = \"streamflow\"\n",
    "multifile_filepath = \"nwm.json\"\n",
    "json_dir = \"jsons/\"\n",
    "output_parquet_dir = \"/home/jovyan/temp/parquet\""
   ]
  },
  {
   "cell_type": "markdown",
   "id": "260d5b29-81bb-4c0f-b639-6acd8f132599",
   "metadata": {},
   "source": [
    "##### For this demo, we'll get the `location_ids` from an exisiting route_link crosswalk table and use only those NWM IDs that coincide with a USGS gauge"
   ]
  },
  {
   "cell_type": "code",
   "execution_count": null,
   "id": "d73b034b-1bd3-4725-a318-8caad7d4cae5",
   "metadata": {},
   "outputs": [],
   "source": [
    "import pandas as pd\n",
    "import numpy as np\n",
    "\n",
    "route_link_filename = \"/home/jovyan/shared/rti-eval/nwm/route_link_conus.parquet\"\n",
    "\n",
    "# Read in route link file and drop rows with no usgs gauge\n",
    "df_route_link = pd.read_parquet(route_link_filename)\n",
    "df_route_link.replace('', np.nan, inplace=True)\n",
    "df_route_link.dropna(subset=[\"gage_id\"], inplace=True)\n",
    "\n",
    "# Get the gauge IDs to use for selection\n",
    "location_ids = df_route_link.nwm_feature_id.values.astype(float)"
   ]
  },
  {
   "cell_type": "markdown",
   "id": "190db0e8-f665-41f0-98a0-b44924373179",
   "metadata": {},
   "source": [
    "##### Now we can get the data. We can take advantage of Dask to improve performance"
   ]
  },
  {
   "cell_type": "code",
   "execution_count": null,
   "id": "2fa0a5f7-617a-4ac5-9114-460dceec6655",
   "metadata": {},
   "outputs": [],
   "source": [
    "from dask.distributed import Client\n",
    "client = Client()\n",
    "client"
   ]
  },
  {
   "cell_type": "code",
   "execution_count": null,
   "id": "1fe461df-5310-4aa0-a079-eb090087617c",
   "metadata": {},
   "outputs": [],
   "source": [
    "%%time\n",
    "nwm_to_parquet(gcs_dir, \n",
    "               configuration, \n",
    "               component, \n",
    "               ingest_days, \n",
    "               start_date, \n",
    "               variable_name,\n",
    "               multifile_filepath,\n",
    "               json_dir,\n",
    "               output_parquet_dir,\n",
    "               location_ids)"
   ]
  },
  {
   "cell_type": "markdown",
   "id": "26162c07-ee64-42de-bf9c-993c41aabb42",
   "metadata": {},
   "source": [
    "##### Let's take a look at the output files"
   ]
  },
  {
   "cell_type": "code",
   "execution_count": null,
   "id": "bdd1bca0-5150-4841-bf91-f31f8d819f4d",
   "metadata": {},
   "outputs": [],
   "source": [
    "df_nwm = pd.read_parquet(\"/home/jovyan/temp/parquet/20221218T06Z.parquet\")\n",
    "df_nwm"
   ]
  }
 ],
 "metadata": {
  "kernelspec": {
   "display_name": "Python 3 (ipykernel)",
   "language": "python",
   "name": "python3"
  },
  "language_info": {
   "codemirror_mode": {
    "name": "ipython",
    "version": 3
   },
   "file_extension": ".py",
   "mimetype": "text/x-python",
   "name": "python",
   "nbconvert_exporter": "python",
   "pygments_lexer": "ipython3",
   "version": "3.10.8"
  }
 },
 "nbformat": 4,
 "nbformat_minor": 5
}
