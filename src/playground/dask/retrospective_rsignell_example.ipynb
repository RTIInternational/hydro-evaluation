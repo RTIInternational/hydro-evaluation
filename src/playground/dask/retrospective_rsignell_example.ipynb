{
 "cells": [
  {
   "cell_type": "markdown",
   "id": "d02a0764-d8a1-4014-b7d8-9c1c20fe897d",
   "metadata": {},
   "source": [
    "Copied from https://nbviewer.org/gist/rsignell-usgs/78a4ce00360c65bc99764aa3e88a2493.  Description is here: https://discourse.pangeo.io/t/the-national-water-model-reanalysis-zarr-dataset-on-aws/1449"
   ]
  },
  {
   "cell_type": "code",
   "execution_count": null,
   "id": "613d2d50-8b4e-4215-a75b-2aecd49460b0",
   "metadata": {},
   "outputs": [],
   "source": [
    "import hvplot.pandas\n",
    "import hvplot.xarray\n",
    "import geoviews as gv\n",
    "from holoviews.operation.datashader import rasterize\n",
    "import cartopy.crs as ccrs"
   ]
  },
  {
   "cell_type": "code",
   "execution_count": null,
   "id": "b7d50ae6-cdbf-4ac8-b565-33f9f5eb4c6d",
   "metadata": {},
   "outputs": [],
   "source": [
    "import xarray as xr\n",
    "import fsspec\n",
    "import numpy as np"
   ]
  },
  {
   "cell_type": "code",
   "execution_count": null,
   "id": "40d002ed-99b7-4fdc-a17d-4cb7fccdb6a2",
   "metadata": {},
   "outputs": [],
   "source": [
    "from dask.distributed import Client, LocalCluster, progress\n",
    "\n",
    "cluster = LocalCluster(n_workers=16)\n",
    "client = Client(cluster)\n",
    "client"
   ]
  },
  {
   "cell_type": "code",
   "execution_count": null,
   "id": "1d6516d2-d57d-445a-82e1-0e001e8683a6",
   "metadata": {},
   "outputs": [],
   "source": [
    "url = 's3://noaa-nwm-retro-v2-zarr-pds'"
   ]
  },
  {
   "cell_type": "code",
   "execution_count": null,
   "id": "08b4484c-ea43-44df-990b-a05458aa207b",
   "metadata": {},
   "outputs": [],
   "source": [
    "%%time\n",
    "ds = xr.open_zarr(fsspec.get_mapper(url, anon=True), consolidated=True)"
   ]
  },
  {
   "cell_type": "code",
   "execution_count": null,
   "id": "d7f51203-c098-4050-8bec-50a72af2dbfb",
   "metadata": {},
   "outputs": [],
   "source": [
    "var='streamflow'"
   ]
  },
  {
   "cell_type": "code",
   "execution_count": null,
   "id": "59e2405f-13d7-44c5-858f-d4487cd6df44",
   "metadata": {},
   "outputs": [],
   "source": [
    "ds[var]"
   ]
  },
  {
   "cell_type": "code",
   "execution_count": null,
   "id": "ff8e6415-e762-4dab-a152-ece5369f5ebd",
   "metadata": {},
   "outputs": [],
   "source": [
    "print(f'Variable size: {ds[var].nbytes/1e12:.1f} TB')"
   ]
  },
  {
   "cell_type": "code",
   "execution_count": null,
   "id": "1d61be6f-8717-402b-b6e1-b376f6c111f4",
   "metadata": {},
   "outputs": [],
   "source": [
    "%%time\n",
    "imax = ds[var].sel(time='2017-06-01 00:00:00').argmax().values"
   ]
  },
  {
   "cell_type": "code",
   "execution_count": null,
   "id": "f24b3e16-23f9-4bb9-b9e3-88f1f81dfb0c",
   "metadata": {},
   "outputs": [],
   "source": [
    "%%time\n",
    "ds[var][:,imax].hvplot(grid=True)"
   ]
  },
  {
   "cell_type": "code",
   "execution_count": null,
   "id": "019a32f2-f006-4133-ae24-ae4ab25c79d9",
   "metadata": {},
   "outputs": [],
   "source": [
    "streamflow_April_2010 = ds[var].sel(time=slice('2010-04-01 00:00','2010-04-30 23:00'))"
   ]
  },
  {
   "cell_type": "code",
   "execution_count": null,
   "id": "10cfa173-50d7-41ba-a26f-afccf37e09cf",
   "metadata": {},
   "outputs": [],
   "source": [
    "print(f'Variable size: {streamflow_April_2010.nbytes/1e9:.1f} GB')"
   ]
  },
  {
   "cell_type": "code",
   "execution_count": null,
   "id": "c26a707d-0097-4b7b-b746-878bdd1eded1",
   "metadata": {},
   "outputs": [],
   "source": [
    "%%time\n",
    "var_mean = streamflow_April_2010.mean(dim='time').compute()"
   ]
  },
  {
   "cell_type": "code",
   "execution_count": null,
   "id": "8d39bb72-f872-41bd-b640-e37bd2d40741",
   "metadata": {},
   "outputs": [],
   "source": [
    "df = var_mean.to_pandas().to_frame()"
   ]
  },
  {
   "cell_type": "code",
   "execution_count": null,
   "id": "fba90c83-8b7d-43b4-82a6-768450607b21",
   "metadata": {},
   "outputs": [],
   "source": [
    "df = df.assign(latitude=ds['latitude'])\n",
    "df = df.assign(longitude=ds['longitude'])\n",
    "df.rename(columns={0: \"transport\"}, inplace=True)"
   ]
  },
  {
   "cell_type": "code",
   "execution_count": null,
   "id": "cd771992-39c5-4b9d-8c00-b903f0b089b8",
   "metadata": {},
   "outputs": [],
   "source": [
    "p = df.hvplot.points('longitude', 'latitude', crs=ccrs.PlateCarree(),\n",
    "                     c='transport', colorbar=True, size=14)"
   ]
  },
  {
   "cell_type": "code",
   "execution_count": null,
   "id": "91d2df6d-9b35-4d75-8977-64e0b5846943",
   "metadata": {},
   "outputs": [],
   "source": [
    "g = rasterize(p, aggregator='mean', x_sampling=0.02, y_sampling=0.02, width=500).opts(tools=['hover'], \n",
    "                aspect='equal', logz=True, cmap='viridis', clim=(1e-2, np.nan))"
   ]
  },
  {
   "cell_type": "code",
   "execution_count": null,
   "id": "ffd2683f-d73c-453e-a8b1-eb0cf88f084f",
   "metadata": {},
   "outputs": [],
   "source": [
    "g * gv.tile_sources.OSM"
   ]
  },
  {
   "cell_type": "code",
   "execution_count": null,
   "id": "43e997ec-4a9e-4a93-b7f4-76311006a3d4",
   "metadata": {},
   "outputs": [],
   "source": []
  }
 ],
 "metadata": {
  "kernelspec": {
   "display_name": "Python 3 (ipykernel)",
   "language": "python",
   "name": "python3"
  },
  "language_info": {
   "codemirror_mode": {
    "name": "ipython",
    "version": 3
   },
   "file_extension": ".py",
   "mimetype": "text/x-python",
   "name": "python",
   "nbconvert_exporter": "python",
   "pygments_lexer": "ipython3",
   "version": "3.10.8"
  }
 },
 "nbformat": 4,
 "nbformat_minor": 5
}
