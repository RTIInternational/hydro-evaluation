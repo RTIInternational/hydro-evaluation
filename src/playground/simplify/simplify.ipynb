{
 "cells": [
  {
   "cell_type": "markdown",
   "id": "a7858c31-3c4f-4fd9-984f-fffbb33778b5",
   "metadata": {},
   "source": [
    "This does not seem to work"
   ]
  },
  {
   "cell_type": "code",
   "execution_count": null,
   "id": "37dd4877-483b-4a48-8d0f-04649fd34968",
   "metadata": {},
   "outputs": [],
   "source": [
    "!pip install topojson"
   ]
  },
  {
   "cell_type": "code",
   "execution_count": null,
   "id": "5dd1a069-baf3-4328-9819-0645f9231765",
   "metadata": {},
   "outputs": [],
   "source": [
    "import sys\n",
    "sys.path.insert(0, '../../evaluation/')"
   ]
  },
  {
   "cell_type": "code",
   "execution_count": null,
   "id": "6f193529-468e-4d49-aabd-10ba313c4e10",
   "metadata": {},
   "outputs": [],
   "source": [
    "import topojson as tp\n",
    "import utils\n",
    "import config\n",
    "import hvplot.pandas #noqa"
   ]
  },
  {
   "cell_type": "code",
   "execution_count": null,
   "id": "33a11113-5821-4aa5-ba1d-f1c0ee112374",
   "metadata": {},
   "outputs": [],
   "source": [
    "gdf = utils.parquet_to_gdf(config.HUC10_PARQUET_FILEPATH).to_crs(\"EPSG:3857\")"
   ]
  },
  {
   "cell_type": "code",
   "execution_count": null,
   "id": "429899b4-c1db-4838-aead-04b25de113e8",
   "metadata": {},
   "outputs": [],
   "source": [
    "topo = tp.Topology(gdf, prequantize=False)\n",
    "simple = topo.toposimplify(1).to_gdf()"
   ]
  },
  {
   "cell_type": "code",
   "execution_count": null,
   "id": "c29894b7-84d3-4d34-9a91-e993b37a54a2",
   "metadata": {},
   "outputs": [],
   "source": [
    "simple.hvplot()"
   ]
  },
  {
   "cell_type": "code",
   "execution_count": null,
   "id": "880970d5-3f81-4ccc-a129-c9389f57f688",
   "metadata": {},
   "outputs": [],
   "source": []
  }
 ],
 "metadata": {
  "kernelspec": {
   "display_name": "Python 3 (ipykernel)",
   "language": "python",
   "name": "python3"
  },
  "language_info": {
   "codemirror_mode": {
    "name": "ipython",
    "version": 3
   },
   "file_extension": ".py",
   "mimetype": "text/x-python",
   "name": "python",
   "nbconvert_exporter": "python",
   "pygments_lexer": "ipython3",
   "version": "3.10.8"
  }
 },
 "nbformat": 4,
 "nbformat_minor": 5
}
