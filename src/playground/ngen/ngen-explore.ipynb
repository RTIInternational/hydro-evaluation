{
 "cells": [
  {
   "cell_type": "code",
   "execution_count": null,
   "metadata": {},
   "outputs": [],
   "source": [
    "%%capture\n",
    "!pip install duckdb spatialpandas"
   ]
  },
  {
   "cell_type": "code",
   "execution_count": null,
   "metadata": {
    "tags": []
   },
   "outputs": [],
   "source": [
    "import ngen\n",
    "import os\n",
    "import duckdb\n",
    "import sys\n",
    "\n",
    "import holoviews as hv\n",
    "import geoviews as gv\n",
    "import geopandas as gpd\n",
    "import panel as pn\n",
    "import hvplot.pandas #noqa\n",
    "import pandas as pd\n",
    "import dask.dataframe as dd\n",
    "import cartopy.crs as ccrs\n",
    "\n",
    "from pathlib import Path"
   ]
  },
  {
   "cell_type": "code",
   "execution_count": null,
   "metadata": {},
   "outputs": [],
   "source": [
    "# add evaluation to path.  ultimately this will be installed.\n",
    "sys.path.insert(0, '../../evaluation')\n",
    "import utils"
   ]
  },
  {
   "cell_type": "code",
   "execution_count": null,
   "metadata": {
    "tags": []
   },
   "outputs": [],
   "source": [
    "# Set some configurations\n",
    "NGEN_DIR = \"/home/jovyan/cache/AWI_03W_113060_001_NGEN/\"\n",
    "NGEN_CONFIG_DIR = Path(NGEN_DIR, \"config\")\n",
    "NGEN_FORCINGS_DIR = Path(NGEN_DIR, \"forcings\")\n",
    "NGEN_OUTPUT_DIR = Path(NGEN_DIR, \"output\")\n",
    "\n",
    "STUDY_DIR = \"/home/jovyan/cache/AWI_03W_113060_001_CHEET/\"\n",
    "STUDY_FORCINGS_DIR = Path(STUDY_DIR, \"forcings\")\n",
    "STUDY_OUTPUT_DIR = Path(STUDY_DIR, \"output\")\n",
    "STUDY_GEO_DIR = Path(STUDY_DIR, \"geo\")\n",
    "STUDY_USGS_DIR = Path(STUDY_DIR, \"usgs\")"
   ]
  },
  {
   "cell_type": "code",
   "execution_count": null,
   "metadata": {},
   "outputs": [],
   "source": [
    "# Load up the NextGen geospatial data"
   ]
  },
  {
   "cell_type": "code",
   "execution_count": null,
   "metadata": {
    "tags": []
   },
   "outputs": [],
   "source": [
    "catchment_file_gdf = gpd.read_file(Path(NGEN_CONFIG_DIR, \"catchment_data.geojson\")).to_crs(\"EPSG:3857\")\n",
    "catchment_file_gdf "
   ]
  },
  {
   "cell_type": "code",
   "execution_count": null,
   "metadata": {
    "tags": []
   },
   "outputs": [],
   "source": [
    "catchment_polygons = catchment_file_gdf.hvplot(color=\"blue\", crs=ccrs.GOOGLE_MERCATOR) #, hover_cols=[\"id\", \"toid\"])"
   ]
  },
  {
   "cell_type": "code",
   "execution_count": null,
   "metadata": {
    "tags": []
   },
   "outputs": [],
   "source": [
    "nexus_file_gdf = gpd.read_file(Path(NGEN_CONFIG_DIR, \"nexus_data.geojson\")).to_crs(\"EPSG:3857\")\n",
    "nexus_file_gdf "
   ]
  },
  {
   "cell_type": "code",
   "execution_count": null,
   "metadata": {
    "tags": []
   },
   "outputs": [],
   "source": [
    "nexus_points = nexus_file_gdf.hvplot(color=\"green\", crs=ccrs.GOOGLE_MERCATOR, hover_cols=[\"id\", \"toid\"])"
   ]
  },
  {
   "cell_type": "code",
   "execution_count": null,
   "metadata": {
    "tags": []
   },
   "outputs": [],
   "source": [
    "tiles = gv.tile_sources.OSM"
   ]
  },
  {
   "cell_type": "code",
   "execution_count": null,
   "metadata": {
    "tags": []
   },
   "outputs": [],
   "source": [
    "tiles * catchment_polygons * nexus_points "
   ]
  },
  {
   "cell_type": "code",
   "execution_count": null,
   "metadata": {
    "tags": []
   },
   "outputs": [],
   "source": [
    "# gdf = gdf = gpd.read_file(Path(STUDY_GEO_DIR, \"nextgen_03W.gpkg\"))"
   ]
  },
  {
   "cell_type": "code",
   "execution_count": null,
   "metadata": {
    "tags": []
   },
   "outputs": [],
   "source": [
    "# gdf.hvplot()"
   ]
  },
  {
   "cell_type": "code",
   "execution_count": null,
   "metadata": {},
   "outputs": [],
   "source": [
    "# Query NextGen timeseries data"
   ]
  },
  {
   "cell_type": "code",
   "execution_count": null,
   "metadata": {},
   "outputs": [],
   "source": [
    "query = f\"\"\"\n",
    "    SELECT catchment_id, value_time, value\n",
    "    FROM read_parquet('{STUDY_OUTPUT_DIR}/cat-*.parquet')\n",
    "    WHERE catchment_id = 'cat-113052';\n",
    "\"\"\"\n",
    "df = duckdb.query(query).to_df()\n",
    "df.hvplot()"
   ]
  },
  {
   "cell_type": "code",
   "execution_count": null,
   "metadata": {},
   "outputs": [],
   "source": [
    "query = f\"\"\"\n",
    "    SELECT catchment_id, value_time, value\n",
    "     FROM read_parquet('{STUDY_FORCINGS_DIR}/cat-*.parquet')\n",
    "    WHERE catchment_id = 'cat-113052';\n",
    "\"\"\"\n",
    "df = duckdb.query(query).to_df()\n",
    "df.hvplot()"
   ]
  },
  {
   "cell_type": "code",
   "execution_count": null,
   "metadata": {},
   "outputs": [],
   "source": [
    "usgs_gdf = utils.get_usgs_gages().to_crs(\"EPSG:3857\")\n",
    "usgs_gdf"
   ]
  },
  {
   "cell_type": "code",
   "execution_count": null,
   "metadata": {},
   "outputs": [],
   "source": [
    "usgs = usgs_gdf.hvplot(color=\"red\", crs=ccrs.GOOGLE_MERCATOR, hover_cols=[\"gage_id\"])"
   ]
  },
  {
   "cell_type": "code",
   "execution_count": null,
   "metadata": {},
   "outputs": [],
   "source": [
    "tiles * catchment_polygons * nexus_points * usgs"
   ]
  },
  {
   "cell_type": "code",
   "execution_count": null,
   "metadata": {},
   "outputs": [],
   "source": [
    "layout = pn.Column(tiles * catchment_polygons * nexus_points * usgs).servable()"
   ]
  },
  {
   "cell_type": "code",
   "execution_count": null,
   "metadata": {},
   "outputs": [],
   "source": []
  }
 ],
 "metadata": {
  "kernelspec": {
   "display_name": "Python 3 (ipykernel)",
   "language": "python",
   "name": "python3"
  },
  "language_info": {
   "codemirror_mode": {
    "name": "ipython",
    "version": 3
   },
   "file_extension": ".py",
   "mimetype": "text/x-python",
   "name": "python",
   "nbconvert_exporter": "python",
   "pygments_lexer": "ipython3",
   "version": "3.10.8"
  }
 },
 "nbformat": 4,
 "nbformat_minor": 4
}
