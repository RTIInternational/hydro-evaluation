{
 "cells": [
  {
   "cell_type": "code",
   "execution_count": null,
   "metadata": {
    "tags": []
   },
   "outputs": [],
   "source": [
    "import ngen\n",
    "import os\n",
    "import duckdb\n",
    "import sys\n",
    "\n",
    "import holoviews as hv\n",
    "import geoviews as gv\n",
    "import geopandas as gpd\n",
    "import hvplot.pandas #noqa\n",
    "import pandas as pd\n",
    "import dask.dataframe as dd\n",
    "import cartopy.crs as ccrs\n",
    "\n",
    "from pathlib import Path"
   ]
  },
  {
   "cell_type": "code",
   "execution_count": null,
   "metadata": {},
   "outputs": [],
   "source": [
    "\n",
    "sys.path.insert(0, '../../evaluation')\n",
    "import utils"
   ]
  },
  {
   "cell_type": "code",
   "execution_count": null,
   "metadata": {
    "tags": []
   },
   "outputs": [],
   "source": [
    "# Set some configurations\n",
    "NGEN_DIR = \"/home/matt/Downloads/AWI_03W_113060_001/\"\n",
    "NGEN_CONFIG_DIR = Path(NGEN_DIR, \"config\")\n",
    "NGEN_FORCINGS_DIR = Path(NGEN_DIR, \"forcings\")\n",
    "NGEN_OUTPUT_DIR = Path(NGEN_DIR, \"output\")\n",
    "\n",
    "STUDY_DIR = \"/home/matt/cache/AWI_03W_113060_001/\"\n",
    "STUDY_FORCINGS_DIR = Path(STUDY_DIR, \"forcings\")\n",
    "STUDY_OUTPUT_DIR = Path(STUDY_DIR, \"output\")\n",
    "STUDY_GEO_DIR = Path(STUDY_DIR, \"geo\")\n",
    "STUDY_USGS_DIR = Path(STUDY_DIR, \"usgs\")"
   ]
  },
  {
   "cell_type": "code",
   "execution_count": null,
   "metadata": {
    "tags": []
   },
   "outputs": [],
   "source": [
    "catchment_file_gdf = gpd.read_file(Path(NGEN_CONFIG_DIR, \"catchment_data.geojson\")).to_crs(\"EPSG:3857\")\n",
    "catchment_file_gdf "
   ]
  },
  {
   "cell_type": "code",
   "execution_count": null,
   "metadata": {
    "tags": []
   },
   "outputs": [],
   "source": [
    "catchment_polygons = catchment_file_gdf.hvplot(crs=ccrs.GOOGLE_MERCATOR, hover_cols=[\"id\", \"toid\"])"
   ]
  },
  {
   "cell_type": "code",
   "execution_count": null,
   "metadata": {
    "tags": []
   },
   "outputs": [],
   "source": [
    "nexus_file_gdf = gpd.read_file(Path(NGEN_CONFIG_DIR, \"nexus_data.geojson\")).to_crs(\"EPSG:3857\")\n",
    "nexus_file_gdf "
   ]
  },
  {
   "cell_type": "code",
   "execution_count": null,
   "metadata": {
    "tags": []
   },
   "outputs": [],
   "source": [
    "nexus_points = nexus_file_gdf.hvplot(color=\"green\", crs=ccrs.GOOGLE_MERCATOR, hover_cols=[\"id\", \"toid\"])"
   ]
  },
  {
   "cell_type": "code",
   "execution_count": null,
   "metadata": {
    "tags": []
   },
   "outputs": [],
   "source": [
    "tiles = gv.tile_sources.OSM"
   ]
  },
  {
   "cell_type": "code",
   "execution_count": null,
   "metadata": {
    "tags": []
   },
   "outputs": [],
   "source": [
    "tiles * catchment_polygons * nexus_points "
   ]
  },
  {
   "cell_type": "code",
   "execution_count": null,
   "metadata": {
    "tags": []
   },
   "outputs": [],
   "source": [
    "cat_forcing_files = NGEN_FORCINGS_DIR.glob(pattern=\"cat03w_cat-*.csv\")"
   ]
  },
  {
   "cell_type": "code",
   "execution_count": null,
   "metadata": {
    "tags": []
   },
   "outputs": [],
   "source": [
    "for file in cat_forcing_files:\n",
    "    cat_df = pd.read_csv(file)\n",
    "    cat_df[\"configuration\"] = \"AWI_03W_113060_001\"\n",
    "    cat_df[\"variable_name\"] = \"precipitation_flux\"\n",
    "    cat_df[\"reference_time\"] = \"\"\n",
    "    cat_df[\"measurement_unit\"] = \"mm s^-1\"\n",
    "    cat_df[\"catchment_id\"] = file.stem.split(\"_\")[-1]\n",
    "    cat_df.rename(columns={\"time\":\"value_time\", \"precip_rate\":\"value\"}, inplace=True, errors=\"raise\")\n",
    "    cat_df = cat_df[[\"reference_time\", \"catchment_id\", \"value_time\", \"value\", \"variable_name\", \"measurement_unit\", \"configuration\"]]\n",
    "    cat_df.to_parquet(Path(STUDY_FORCINGS_DIR, f\"{file.stem.split('_')[-1]}.parquet\"))"
   ]
  },
  {
   "cell_type": "code",
   "execution_count": null,
   "metadata": {
    "tags": []
   },
   "outputs": [],
   "source": [
    "cat_output_files = NGEN_OUTPUT_DIR.glob(pattern=\"cat-*.csv\")"
   ]
  },
  {
   "cell_type": "code",
   "execution_count": null,
   "metadata": {
    "tags": []
   },
   "outputs": [],
   "source": [
    "for file in cat_output_files:\n",
    "    cat_out_df = pd.read_csv(file)\n",
    "    cat_out_df[\"configuration\"] = \"AWI_03W_113060_001\"\n",
    "    cat_out_df[\"catchment_id\"] = file.stem.split(\"_\")[-1]\n",
    "    cat_out_df[\"variable_name\"] = \"runoff\"\n",
    "    cat_out_df[\"reference_time\"] = \"\"\n",
    "    cat_out_df[\"measurement_unit\"] = \"m^3/s\"\n",
    "    cat_out_df.rename(columns={\"Time Step\":\"lead_time\",\"Time\":\"value_time\", \"Q_OUT\": \"value\"}, inplace=True, errors=\"raise\")\n",
    "    cat_out_df = cat_out_df[[\"reference_time\", \"catchment_id\", \"value_time\", \"value\", \"variable_name\", \"measurement_unit\", \"configuration\"]]\n",
    "    cat_out_df.to_parquet(Path(STUDY_OUTPUT_DIR, f\"{file.stem.split('_')[-1]}.parquet\"))"
   ]
  },
  {
   "cell_type": "code",
   "execution_count": null,
   "metadata": {
    "tags": []
   },
   "outputs": [],
   "source": [
    "nexus_output_files = NGEN_OUTPUT_DIR.glob(pattern=\"nex-*.csv\")"
   ]
  },
  {
   "cell_type": "code",
   "execution_count": null,
   "metadata": {
    "tags": []
   },
   "outputs": [],
   "source": [
    "for file in nexus_output_files:\n",
    "    nex_out_df = pd.read_csv(file, header=1, names=[\"lead_time\",\"value_time\", \"value\"])\n",
    "    nex_out_df[\"configuration\"] = \"AWI_03W_113060_001\"\n",
    "    nex_out_df[\"nexus_id\"] = file.stem.split(\"_\")[0]\n",
    "    nex_out_df[\"variable_name\"] = \"streamflow\"\n",
    "    nex_out_df[\"reference_time\"] = \"\"\n",
    "    nex_out_df[\"measurement_unit\"] = \"m^3/s\"\n",
    "    nex_out_df = nex_out_df[[\"reference_time\", \"nexus_id\", \"value_time\", \"value\", \"variable_name\", \"measurement_unit\", \"configuration\"]]\n",
    "    nex_out_df.to_parquet(Path(STUDY_OUTPUT_DIR, f\"{file.stem.split('_')[-1]}.parquet\"))"
   ]
  },
  {
   "cell_type": "code",
   "execution_count": null,
   "metadata": {
    "tags": []
   },
   "outputs": [],
   "source": [
    "gdf = gdf = gpd.read_file(Path(STUDY_GEO_DIR, \"nextgen_03W.gpkg\"))"
   ]
  },
  {
   "cell_type": "code",
   "execution_count": null,
   "metadata": {
    "tags": []
   },
   "outputs": [],
   "source": [
    "gdf.hvplot()"
   ]
  },
  {
   "cell_type": "code",
   "execution_count": null,
   "metadata": {},
   "outputs": [],
   "source": [
    "query = f\"\"\"\n",
    "    SELECT catchment_id, max(value)\n",
    "    FROM read_parquet('{STUDY_OUTPUT_DIR}/cat-*.parquet')\n",
    "    GROUP BY catchment_id;\n",
    "\"\"\"\n",
    "df = duckdb.query(query).to_df()\n",
    "df"
   ]
  },
  {
   "cell_type": "code",
   "execution_count": null,
   "metadata": {},
   "outputs": [],
   "source": [
    "query = f\"\"\"\n",
    "    SELECT catchment_id, max(value)\n",
    "    FROM read_parquet('{STUDY_FORCINGS_DIR}/cat-*.parquet')\n",
    "    GROUP BY catchment_id;\n",
    "\"\"\"\n",
    "df = duckdb.query(query).to_df()"
   ]
  },
  {
   "cell_type": "code",
   "execution_count": null,
   "metadata": {},
   "outputs": [],
   "source": [
    "df"
   ]
  },
  {
   "cell_type": "code",
   "execution_count": null,
   "metadata": {},
   "outputs": [],
   "source": []
  },
  {
   "cell_type": "code",
   "execution_count": null,
   "metadata": {},
   "outputs": [],
   "source": []
  }
 ],
 "metadata": {
  "kernelspec": {
   "display_name": "Python 3 (ipykernel)",
   "language": "python",
   "name": "python3"
  },
  "language_info": {
   "codemirror_mode": {
    "name": "ipython",
    "version": 3
   },
   "file_extension": ".py",
   "mimetype": "text/x-python",
   "name": "python",
   "nbconvert_exporter": "python",
   "pygments_lexer": "ipython3",
   "version": "3.10.10"
  }
 },
 "nbformat": 4,
 "nbformat_minor": 4
}
