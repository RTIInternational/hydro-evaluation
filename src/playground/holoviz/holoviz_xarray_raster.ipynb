{
 "cells": [
  {
   "cell_type": "code",
   "execution_count": null,
   "id": "e1a9e664-3f60-472d-a381-a7d1be84a7e3",
   "metadata": {},
   "outputs": [],
   "source": [
    "# Display raster xarray data in HoloViz"
   ]
  },
  {
   "cell_type": "code",
   "execution_count": null,
   "id": "30d56881-ef60-4875-aa7e-caf2e9b01c8e",
   "metadata": {},
   "outputs": [],
   "source": [
    "import os\n",
    "# import shutil\n",
    "# import fsspec\n",
    "# import ujson\n",
    "# from kerchunk.hdf import SingleHdf5ToZarr\n",
    "# from kerchunk.combine import MultiZarrToZarr\n",
    "import xarray as xr\n",
    "# import dask\n",
    "import hvplot.xarray\n",
    "# from datetime import datetime, timedelta\n",
    "# import pandas as pd"
   ]
  },
  {
   "cell_type": "code",
   "execution_count": null,
   "id": "cf5797f9-b346-4546-9662-1b498561c120",
   "metadata": {},
   "outputs": [],
   "source": [
    "from panel.interact import interact\n",
    "# import json\n",
    "# import spatialpandas as spd\n",
    "# import geopandas as gpd\n",
    "# import pandas as pd\n",
    "import holoviews as hv\n",
    "import geoviews as gv\n",
    "# import panel as pn\n",
    "import cartopy.crs as ccrs\n",
    "# import datashader as ds\n",
    "\n",
    "from holoviews import streams, opts\n",
    "# from bokeh.models import HoverTool\n",
    "# from holoviews.operation.datashader import (\n",
    "#     rasterize, shade, regrid, inspect_points,\n",
    "#     datashade, inspect_polygons\n",
    "# )\n",
    "# from shapely.geometry import Point"
   ]
  },
  {
   "cell_type": "code",
   "execution_count": null,
   "id": "9df922b3-58ce-497e-b3fe-1c30eb29ca53",
   "metadata": {},
   "outputs": [],
   "source": [
    "# adding project dirs to path so code may be referenced from the notebook\n",
    "import sys\n",
    "sys.path.insert(0, '../../evaluation')\n",
    "sys.path.insert(0, '../../evaluation/queries')\n",
    "sys.path.insert(0, '../../evaluation/loading')\n",
    "import const"
   ]
  },
  {
   "cell_type": "code",
   "execution_count": null,
   "id": "d40b288a-f39e-4789-8626-d7fbbb6087cc",
   "metadata": {},
   "outputs": [],
   "source": [
    "# '/home/jovyan/cache/nwm/20221218T12Z.json was created with MultiZarrToZarr for one forecast all timesteps\n",
    "backend_args = { \"consolidated\": False,\n",
    "                 \"storage_options\": { \"fo\": '/home/jovyan/cache/nwm/20221218T12Z.json',\n",
    "                                \"remote_protocol\": \"gcs\", \n",
    "                                \"remote_options\": {'anon':True} }}\n",
    "ds = xr.open_dataset(\n",
    "    \"reference://\", engine=\"zarr\",\n",
    "    backend_kwargs=backend_args\n",
    ")"
   ]
  },
  {
   "cell_type": "code",
   "execution_count": null,
   "id": "138544b2-647d-4bb2-ac3d-ee2582f19e8b",
   "metadata": {},
   "outputs": [],
   "source": [
    "da = ds[\"RAINRATE\"].rio.write_crs(const.CONUS_NWM_WKT).compute()"
   ]
  },
  {
   "cell_type": "code",
   "execution_count": null,
   "id": "fc0c7fb6-e4df-401a-9aa0-06b16853e029",
   "metadata": {},
   "outputs": [],
   "source": [
    "da = da.rio.reproject(\"EPSG:3857\")"
   ]
  },
  {
   "cell_type": "code",
   "execution_count": null,
   "id": "3ad65083-5d22-42f5-8668-baa54cf5734d",
   "metadata": {},
   "outputs": [],
   "source": [
    "def plot():\n",
    "    return da.hvplot.image(\n",
    "    crs=ccrs.GOOGLE_MERCATOR,\n",
    "    rasterize=True,  # For speed up in plotting, uses Datashader\n",
    "    tiles=\"OSM\",\n",
    "    ).opts(height=650,width=1300,data_aspect=1)\n"
   ]
  },
  {
   "cell_type": "code",
   "execution_count": null,
   "id": "bb38be1d-ac67-497f-8799-c3ad8391f1e8",
   "metadata": {},
   "outputs": [],
   "source": [
    " # interact(plot, field = list(ds.data_vars)\n",
    "interact(plot)"
   ]
  },
  {
   "cell_type": "code",
   "execution_count": null,
   "id": "596ade32-ca67-4097-bdc3-ae94ee4e107a",
   "metadata": {},
   "outputs": [],
   "source": []
  }
 ],
 "metadata": {
  "kernelspec": {
   "display_name": "Python 3 (ipykernel)",
   "language": "python",
   "name": "python3"
  },
  "language_info": {
   "codemirror_mode": {
    "name": "ipython",
    "version": 3
   },
   "file_extension": ".py",
   "mimetype": "text/x-python",
   "name": "python",
   "nbconvert_exporter": "python",
   "pygments_lexer": "ipython3",
   "version": "3.10.8"
  }
 },
 "nbformat": 4,
 "nbformat_minor": 5
}
