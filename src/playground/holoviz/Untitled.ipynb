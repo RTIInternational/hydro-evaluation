{
 "cells": [
  {
   "cell_type": "code",
   "execution_count": null,
   "id": "e1a9e664-3f60-472d-a381-a7d1be84a7e3",
   "metadata": {},
   "outputs": [],
   "source": [
    "# Display raster xarray data in HoloViz"
   ]
  },
  {
   "cell_type": "code",
   "execution_count": null,
   "id": "30d56881-ef60-4875-aa7e-caf2e9b01c8e",
   "metadata": {},
   "outputs": [],
   "source": [
    "import os\n",
    "import shutil\n",
    "import fsspec\n",
    "import ujson\n",
    "from kerchunk.hdf import SingleHdf5ToZarr\n",
    "from kerchunk.combine import MultiZarrToZarr\n",
    "import xarray as xr\n",
    "import dask\n",
    "import hvplot.xarray\n",
    "from datetime import datetime, timedelta\n",
    "import pandas as pd\n",
    "import pickle"
   ]
  },
  {
   "cell_type": "code",
   "execution_count": null,
   "id": "d40b288a-f39e-4789-8626-d7fbbb6087cc",
   "metadata": {},
   "outputs": [],
   "source": [
    "backend_args = { \"consolidated\": False,\n",
    "                 \"storage_options\": { \"fo\": '/home/jovyan/cache/nwm/20221218T12Z.json',\n",
    "                                \"remote_protocol\": \"gcs\", \n",
    "                                \"remote_options\": {'anon':True} }}\n",
    "ds = xr.open_dataset(\n",
    "    \"reference://\", engine=\"zarr\",\n",
    "    backend_kwargs=backend_args\n",
    ")"
   ]
  },
  {
   "cell_type": "code",
   "execution_count": null,
   "id": "4b0dc63b-4947-418e-94f3-d2f341791a41",
   "metadata": {},
   "outputs": [],
   "source": [
    "ds"
   ]
  },
  {
   "cell_type": "code",
   "execution_count": null,
   "id": "3ad65083-5d22-42f5-8668-baa54cf5734d",
   "metadata": {},
   "outputs": [],
   "source": []
  }
 ],
 "metadata": {
  "kernelspec": {
   "display_name": "Python 3 (ipykernel)",
   "language": "python",
   "name": "python3"
  },
  "language_info": {
   "codemirror_mode": {
    "name": "ipython",
    "version": 3
   },
   "file_extension": ".py",
   "mimetype": "text/x-python",
   "name": "python",
   "nbconvert_exporter": "python",
   "pygments_lexer": "ipython3",
   "version": "3.10.8"
  }
 },
 "nbformat": 4,
 "nbformat_minor": 5
}
