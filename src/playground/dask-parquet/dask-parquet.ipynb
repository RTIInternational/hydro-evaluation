{
 "cells": [
  {
   "cell_type": "code",
   "execution_count": null,
   "id": "77dafb00-2340-4365-82d8-dd88d96716cc",
   "metadata": {},
   "outputs": [],
   "source": [
    "%matplotlib inline\n",
    "\n",
    "# adding project dirs to path so code may be referenced from the notebook\n",
    "import sys\n",
    "sys.path.insert(0, '../../evaluation')\n",
    "sys.path.insert(0, '../../evaluation/queries')"
   ]
  },
  {
   "cell_type": "code",
   "execution_count": null,
   "id": "48c40bb4-facd-4f08-8b03-77f50bb307ff",
   "metadata": {},
   "outputs": [],
   "source": [
    "import os\n",
    "from pathlib import Path\n",
    "\n",
    "CACHE_DIR = Path(\"/home\", \"jovyan\", \"cache\")\n",
    "NWM_CACHE_DIR = os.path.join(CACHE_DIR, \"nwm\")\n",
    "USGS_CACHE_DIR = os.path.join(CACHE_DIR, \"usgs\")\n",
    "GEO_CACHE_DIR = os.path.join(CACHE_DIR, \"geo\")\n",
    "\n",
    "NWM_CACHE_H5 = os.path.join(NWM_CACHE_DIR, \"gcp_client.h5\")\n",
    "\n",
    "PARQUET_CACHE_DIR = os.path.join(CACHE_DIR, \"parquet\")\n",
    "MEDIUM_RANGE_FORCING_PARQUET = os.path.join(PARQUET_CACHE_DIR, \"forcing_medium_range\")\n",
    "FORCING_ANALYSIS_ASSIM_PARQUET = os.path.join(PARQUET_CACHE_DIR, \"forcing_analysis_assim\")\n",
    "MEDIUM_RANGE_1_PARQUET = os.path.join(PARQUET_CACHE_DIR, \"medium_range_mem1\")\n",
    "USGS_PARQUET = os.path.join(PARQUET_CACHE_DIR, \"usgs\")\n",
    "\n",
    "HUC10_SHP_FILEPATH = os.path.join(GEO_CACHE_DIR, \"wbdhu10_conus.shp\")\n",
    "HUC10_PARQUET_FILEPATH = os.path.join(GEO_CACHE_DIR, \"wbdhu10_conus.parquet\")\n",
    "HUC10_MEDIUM_RANGE_WEIGHTS_FILEPATH = os.path.join(GEO_CACHE_DIR, \"wbdhu10_medium_range_weights.pkl\")\n",
    "\n",
    "ROUTE_LINK_FILE = os.path.join(NWM_CACHE_DIR, \"RouteLink_CONUS.nc\")\n",
    "ROUTE_LINK_PARQUET = os.path.join(NWM_CACHE_DIR, \"route_link_conus.parquet\")"
   ]
  },
  {
   "cell_type": "code",
   "execution_count": null,
   "id": "e2cbde88-4624-43de-8171-06c5513506f7",
   "metadata": {},
   "outputs": [],
   "source": [
    "from dask.distributed import Client, LocalCluster\n",
    "cluster = LocalCluster()\n",
    "client = Client(cluster)\n",
    "cluster"
   ]
  },
  {
   "cell_type": "code",
   "execution_count": null,
   "id": "149c4c64-f81a-4aa1-8166-f3427741a501",
   "metadata": {},
   "outputs": [],
   "source": [
    "import dask.dataframe as dd\n",
    "import pandas as pd"
   ]
  },
  {
   "cell_type": "code",
   "execution_count": null,
   "id": "ed30451e-98f4-45d3-adf6-29809004c5d5",
   "metadata": {},
   "outputs": [],
   "source": [
    "ddf_forecast = dd.read_parquet(MEDIUM_RANGE_FORCING_PARQUET)\n",
    "ddf_observed = dd.read_parquet(FORCING_ANALYSIS_ASSIM_PARQUET)"
   ]
  },
  {
   "cell_type": "code",
   "execution_count": null,
   "id": "d3ab68a4-47a5-45c0-a195-167a7b86c968",
   "metadata": {},
   "outputs": [],
   "source": [
    "ddf_joined = dd.merge(\n",
    "    ddf_forecast,\n",
    "    ddf_observed,\n",
    "    on=[\"catchment_id\",\"value_time\"],\n",
    "    suffixes=[\"_forecast\",\"_observed\"],\n",
    ")\n",
    "# ddf_joined = ddf_joined.reset_index(drop=True)\n",
    "# ddf_joined = ddf_joined.set_index(\"index\")\n",
    "# ddf_joined.rename(\n",
    "# {\n",
    "#     \"value_x\": \"forecast_value\",\n",
    "#     \"value_y\": \"observed_value\"\n",
    "# }\n",
    "# )\n",
    "\n",
    "ddf_joined"
   ]
  },
  {
   "cell_type": "code",
   "execution_count": null,
   "id": "6a9a21d2-ea63-4fc6-ab74-99a6e2c969f7",
   "metadata": {},
   "outputs": [],
   "source": [
    "%%time\n",
    "ddf = ddf_joined[\n",
    "    (ddf_joined[\"catchment_id\"].str.startswith(\"18\")) & \n",
    "    (ddf_joined[\"reference_time\"] > pd.Timestamp(2023,1,1))\n",
    "]\n",
    "\n",
    "ddf.groupby([\"catchment_id\",\"reference_time\"]).count().compute()"
   ]
  },
  {
   "cell_type": "code",
   "execution_count": null,
   "id": "e95233fb-926d-439d-9e3e-ed4e7d90e0f9",
   "metadata": {},
   "outputs": [],
   "source": [
    "%%capture\n",
    "!pip install duckdb"
   ]
  },
  {
   "cell_type": "code",
   "execution_count": null,
   "id": "6d741890-260b-4563-9bbc-cedb3da523fe",
   "metadata": {},
   "outputs": [],
   "source": [
    "import duckdb"
   ]
  },
  {
   "cell_type": "code",
   "execution_count": null,
   "id": "693c34c3-03d7-4bb1-ab20-91f68a43285f",
   "metadata": {},
   "outputs": [],
   "source": [
    "%%time\n",
    "query = f\"\"\"SELECT * from '{MEDIUM_RANGE_FORCING_PARQUET}/2023*.parquet' WHERE catchment_id LIKE '18%'\"\"\"\n",
    "df = duckdb.query(query).to_df()\n",
    "df"
   ]
  }
 ],
 "metadata": {
  "kernelspec": {
   "display_name": "Python 3 (ipykernel)",
   "language": "python",
   "name": "python3"
  },
  "language_info": {
   "codemirror_mode": {
    "name": "ipython",
    "version": 3
   },
   "file_extension": ".py",
   "mimetype": "text/x-python",
   "name": "python",
   "nbconvert_exporter": "python",
   "pygments_lexer": "ipython3",
   "version": "3.10.8"
  }
 },
 "nbformat": 4,
 "nbformat_minor": 5
}
