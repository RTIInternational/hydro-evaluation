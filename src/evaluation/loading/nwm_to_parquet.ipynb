{
 "cells": [
  {
   "cell_type": "code",
   "execution_count": null,
   "id": "877757a0-69be-4c7c-b1fd-6e4460ff7880",
   "metadata": {},
   "outputs": [],
   "source": [
    "%matplotlib inline\n",
    "\n",
    "# adding project dirs to path so code may be referenced from the notebook\n",
    "import sys\n",
    "sys.path.insert(0, '..')"
   ]
  },
  {
   "cell_type": "code",
   "execution_count": null,
   "id": "d1830891-db04-4445-a9db-3295d2f82d66",
   "metadata": {},
   "outputs": [],
   "source": [
    "!pip install hydrotools"
   ]
  },
  {
   "cell_type": "code",
   "execution_count": null,
   "id": "51601028-c397-4070-a33d-d47f7dc21ba7",
   "metadata": {},
   "outputs": [],
   "source": [
    "import os\n",
    "import config\n",
    "import const\n",
    "import utils\n",
    "from hydrotools.nwm_client import gcp as nwm\n",
    "from datetime import datetime, timedelta\n",
    "import pandas as pd\n",
    "import nwm_to_parquet"
   ]
  },
  {
   "cell_type": "code",
   "execution_count": null,
   "id": "1082cf3d-3a92-4854-b1f2-33ea8f3fb51d",
   "metadata": {},
   "outputs": [],
   "source": [
    "# Setup some criteria\n",
    "ingest_days = 4\n",
    "start_dt = datetime(2023, 1, 5, 18) # First one is at 00Z in date\n",
    "td = timedelta(hours=6)\n",
    "number_of_forecasts = 5 #ingest_days * 4\n",
    "\n",
    "# Loop though forecasts, fetch and save as parquet\n",
    "for f in range(number_of_forecasts):\n",
    "    reference_time = start_dt + td * f\n",
    "    ref_time_str = reference_time.strftime(\"%Y%m%dT%HZ\")\n",
    "    \n",
    "    print(f\"Fetching NWM: {ref_time_str}\")\n",
    "    forecast_data = nwm_to_parquet.fetch_nwm(reference_time=ref_time_str)\n",
    "    \n",
    "    print(f\"Fetched: {len(forecast_data)} rows\")\n",
    "    nwm_to_parquet.nwm_to_parquet(forecast_data, ref_time_str)"
   ]
  },
  {
   "cell_type": "code",
   "execution_count": null,
   "id": "138abe71-8123-4352-b199-55e90936ca60",
   "metadata": {},
   "outputs": [],
   "source": []
  }
 ],
 "metadata": {
  "kernelspec": {
   "display_name": "Python 3 (ipykernel)",
   "language": "python",
   "name": "python3"
  },
  "language_info": {
   "codemirror_mode": {
    "name": "ipython",
    "version": 3
   },
   "file_extension": ".py",
   "mimetype": "text/x-python",
   "name": "python",
   "nbconvert_exporter": "python",
   "pygments_lexer": "ipython3",
   "version": "3.10.8"
  }
 },
 "nbformat": 4,
 "nbformat_minor": 5
}
