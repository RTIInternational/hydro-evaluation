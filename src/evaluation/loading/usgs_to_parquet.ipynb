version https://git-lfs.github.com/spec/v1
oid sha256:5c28f38513448be2be5cb4fc2da2d1b75bf73b7cc03168b5bcf734092f292b8d
size 16636
