version https://git-lfs.github.com/spec/v1
oid sha256:6240142f52022353e6911b1cbe8bc49d8d0616181fef2922e289f861d3a96525
size 474048
