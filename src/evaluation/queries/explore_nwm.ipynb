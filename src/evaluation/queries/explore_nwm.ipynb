{
 "cells": [
  {
   "cell_type": "code",
   "execution_count": null,
   "id": "53e7c4e0-e187-4fc8-b234-66dd1e23875b",
   "metadata": {},
   "outputs": [],
   "source": [
    "%%capture\n",
    "!pip install spatialpandas easydev colormap colorcet duckdb dask_geopandas nb_black"
   ]
  },
  {
   "cell_type": "code",
   "execution_count": null,
   "id": "c058b8f9-52a9-4c25-bcae-dee48abe7769",
   "metadata": {},
   "outputs": [],
   "source": [
    "%matplotlib inline\n",
    "\n",
    "# adding project dirs to path so code may be referenced from the notebook\n",
    "import sys\n",
    "sys.path.insert(0, '..')"
   ]
  },
  {
   "cell_type": "code",
   "execution_count": null,
   "id": "86d33b4a-3303-4e83-bc38-d1b9294c9ea6",
   "metadata": {},
   "outputs": [],
   "source": [
    "import duckdb\n",
    "import pandas as pd\n",
    "import geopandas as gpd\n",
    "import matplotlib.pyplot as plt\n",
    "import config\n",
    "import utils"
   ]
  },
  {
   "cell_type": "code",
   "execution_count": null,
   "id": "083ea435-0142-422e-ad30-fcdf8afc4980",
   "metadata": {},
   "outputs": [],
   "source": [
    "# load usgs gages\n",
    "%time\n",
    "gdf = utils.get_usgs_gages()"
   ]
  },
  {
   "cell_type": "code",
   "execution_count": null,
   "id": "ab64c17c-7636-45dd-9054-a71bccdbd533",
   "metadata": {},
   "outputs": [],
   "source": [
    "gdf"
   ]
  },
  {
   "cell_type": "code",
   "execution_count": null,
   "id": "6c7d4a84-6e7b-4fd0-a5e9-4ace4ef940be",
   "metadata": {},
   "outputs": [],
   "source": [
    "gdf.plot(markersize=2, figsize=(20,10))"
   ]
  },
  {
   "cell_type": "code",
   "execution_count": null,
   "id": "d61ba799-c546-45d0-80ca-04243a12e61d",
   "metadata": {},
   "outputs": [],
   "source": [
    "# Query some forcast data from parquet files\n",
    "import importlib\n",
    "import queries\n",
    "importlib.reload(queries)"
   ]
  },
  {
   "cell_type": "code",
   "execution_count": null,
   "id": "63bccd8c-af6c-4552-a54e-cbef3071d325",
   "metadata": {},
   "outputs": [],
   "source": [
    "query = queries.calculate_nwm_feature_metrics(\n",
    "    config.MEDIUM_RANGE_1_PARQUET,\n",
    "    config.USGS_PARQUET,\n",
    "    group_by=[\"nwm_feature_id\"],\n",
    "    order_by=[\"observed_average\"],\n",
    "    filters=[\n",
    "        {\n",
    "            \"column\": \"reference_time\",\n",
    "            \"operator\": \"=\",\n",
    "            \"value\": \"2023-01-03 12:00:00\"\n",
    "        },\n",
    "    ]\n",
    ")\n",
    "# print(query)\n",
    "df = duckdb.query(query).to_df()\n",
    "df"
   ]
  },
  {
   "cell_type": "code",
   "execution_count": null,
   "id": "60004ab5-8005-4c1c-8641-842dc89a3fea",
   "metadata": {},
   "outputs": [],
   "source": [
    "# Join query to basins\n",
    "gdf_map = gdf.merge(df, left_on=\"nwm_feature_id\", right_on=\"nwm_feature_id\")"
   ]
  },
  {
   "cell_type": "code",
   "execution_count": null,
   "id": "16c4e8a3-6da9-4f55-a30b-631979c0b334",
   "metadata": {},
   "outputs": [],
   "source": [
    "# Filter to CA\n",
    "gdf_map = gdf_map.loc[gdf_map[\"catchment_id\"].str.startswith(\"18\")]\n",
    "gdf_map = gdf_map.loc[gdf_map[\"observed_average\"] > 0]\n",
    "\n",
    "gdf_map.plot(\"max_forecast_delta\", legend=True, markersize=1.5, figsize=(20,10))"
   ]
  },
  {
   "cell_type": "code",
   "execution_count": null,
   "id": "52282016-03ec-40da-8c1b-02f165048dae",
   "metadata": {},
   "outputs": [],
   "source": [
    "query = queries.get_joined_nwm_feature_timeseries(\n",
    "    config.MEDIUM_RANGE_1_PARQUET,\n",
    "    config.USGS_PARQUET,\n",
    "    filters=[\n",
    "        {\n",
    "            \"column\": \"reference_time\",\n",
    "            \"operator\": \"=\",\n",
    "            \"value\": \"2023-01-03 12:00:00\"\n",
    "        },\n",
    "        {\n",
    "            \"column\": \"nwm_feature_id\",\n",
    "            \"operator\": \"=\",\n",
    "            \"value\": \"19266232\"\n",
    "        },\n",
    "    ]\n",
    ")\n",
    "\n",
    "df = duckdb.query(query).to_df()\n",
    "df"
   ]
  },
  {
   "cell_type": "code",
   "execution_count": null,
   "id": "8fd08748-2e7d-48ad-8997-68cc0526fa38",
   "metadata": {},
   "outputs": [],
   "source": [
    "import holoviews as hv\n",
    "from holoviews import opts\n",
    "hv.extension('bokeh')"
   ]
  },
  {
   "cell_type": "code",
   "execution_count": null,
   "id": "226e22de-f214-46c6-a3f6-116d14ac4cda",
   "metadata": {},
   "outputs": [],
   "source": [
    "df.sort_values(\"value_time\", inplace=True)\n",
    "curves = hv.Curve(df, \"value_time\", \"forecast_value\") * hv.Curve(df, \"value_time\", \"observed_value\")\n",
    "overlay = hv.Overlay(curves).opts(width=600)\n",
    "overlay"
   ]
  },
  {
   "cell_type": "code",
   "execution_count": null,
   "id": "91649e5d-ea0e-490f-b6e2-91d4daa67fbe",
   "metadata": {},
   "outputs": [],
   "source": [
    "def get_timeseries(reference_time: str, nwm_feature_id: str):\n",
    "    query = queries.get_joined_nwm_feature_timeseries(\n",
    "        config.MEDIUM_RANGE_1_PARQUET,\n",
    "        config.USGS_PARQUET,\n",
    "        filters=[\n",
    "            {\n",
    "                \"column\": \"reference_time\",\n",
    "                \"operator\": \"=\",\n",
    "                \"value\": reference_time\n",
    "            },\n",
    "            {\n",
    "                \"column\": \"nwm_feature_id\",\n",
    "                \"operator\": \"=\",\n",
    "                \"value\": str(nwm_feature_id)\n",
    "            },\n",
    "        ]\n",
    "    )\n",
    "    df = duckdb.query(query).to_df()\n",
    "    return df.sort_values(\"value_time\")"
   ]
  },
  {
   "cell_type": "code",
   "execution_count": null,
   "id": "84e22a6a-500e-4ccb-8c59-b6f8f05df9d5",
   "metadata": {},
   "outputs": [],
   "source": [
    "# Get distinct reference times for drop down\n",
    "query = f\"\"\"\n",
    "    SELECT \n",
    "    distinct(reference_time)\n",
    "    FROM read_parquet('{config.MEDIUM_RANGE_1_PARQUET}/*.parquet')\n",
    ";\"\"\"\n",
    "# print(query)\n",
    "reference_times = duckdb.query(query).to_df().sort_values(\"reference_time\")\n",
    "reference_times = reference_times[\"reference_time\"].to_list()\n",
    "reference_times = [pd.to_datetime(d).strftime(\"%Y-%m-%d %H:%M:%S\") for d in reference_times]"
   ]
  },
  {
   "cell_type": "code",
   "execution_count": null,
   "id": "800b3a44-20f0-41b8-94f3-d9f335b40dfd",
   "metadata": {},
   "outputs": [],
   "source": [
    "# Get distinct nwm_+feature_ids for drop down\n",
    "query = f\"\"\"\n",
    "    SELECT \n",
    "    distinct(nwm_feature_id)\n",
    "    FROM read_parquet('{config.MEDIUM_RANGE_1_PARQUET}/*.parquet')\n",
    ";\"\"\"\n",
    "# print(query)\n",
    "nwm_feature_ids = duckdb.query(query).to_df()\n",
    "nwm_feature_ids = nwm_feature_ids[\"nwm_feature_id\"].to_list()"
   ]
  },
  {
   "cell_type": "code",
   "execution_count": null,
   "id": "f593d0f3-8218-4e1c-9bb9-283d04f4fa95",
   "metadata": {},
   "outputs": [],
   "source": [
    "def load_timeseries(reference_time: str, nwm_feature_id: str, **kwargs):\n",
    "    df = get_timeseries(reference_time, nwm_feature_id)\n",
    "    return hv.Curve(df, \"value_time\", \"forecast_value\", label=\"Forecast\").opts(framewise=True) * hv.Curve(df, \"value_time\", \"observed_value\", label=\"Observed\").opts(framewise=True)"
   ]
  },
  {
   "cell_type": "code",
   "execution_count": null,
   "id": "0565841b-a08b-4b88-8ddf-d51a89b7ccb4",
   "metadata": {},
   "outputs": [],
   "source": [
    "import panel as pn\n",
    "pn.extension()\n",
    "\n",
    "reference_time = pn.widgets.Select(options=reference_times)\n",
    "reference_time = pn.widgets.DiscretePlayer(name='Reference Time', options=reference_times, value=reference_times[0], loop_policy='loop')\n",
    "nwm_feature_id = pn.widgets.Select(name='NWM Feature ID', options=nwm_feature_ids)\n",
    "\n",
    "dmap = hv.DynamicMap(pn.bind(load_timeseries, reference_time=reference_time, nwm_feature_id=nwm_feature_id))\n",
    "\n",
    "# reference_time.controls(jslink=True)\n",
    "app = pn.Column(\n",
    "    pn.Row(pn.WidgetBox('## Timeseries Explorer', nwm_feature_id, reference_time), dmap.opts(width=500, framewise=True)),\n",
    ").servable()\n",
    "\n",
    "app\n"
   ]
  },
  {
   "cell_type": "code",
   "execution_count": null,
   "id": "959ebc05-3e1e-4a7d-a24d-364784fd36ad",
   "metadata": {},
   "outputs": [],
   "source": []
  }
 ],
 "metadata": {
  "kernelspec": {
   "display_name": "Python 3 (ipykernel)",
   "language": "python",
   "name": "python3"
  },
  "language_info": {
   "codemirror_mode": {
    "name": "ipython",
    "version": 3
   },
   "file_extension": ".py",
   "mimetype": "text/x-python",
   "name": "python",
   "nbconvert_exporter": "python",
   "pygments_lexer": "ipython3",
   "version": "3.10.8"
  }
 },
 "nbformat": 4,
 "nbformat_minor": 5
}
