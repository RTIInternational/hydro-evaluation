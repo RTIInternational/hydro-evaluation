{
 "cells": [
  {
   "cell_type": "code",
   "execution_count": null,
   "id": "53e7c4e0-e187-4fc8-b234-66dd1e23875b",
   "metadata": {},
   "outputs": [],
   "source": [
    "!pip install duckdb"
   ]
  },
  {
   "cell_type": "code",
   "execution_count": null,
   "id": "c058b8f9-52a9-4c25-bcae-dee48abe7769",
   "metadata": {},
   "outputs": [],
   "source": [
    "%matplotlib inline\n",
    "\n",
    "# adding project dirs to path so code may be referenced from the notebook\n",
    "import sys\n",
    "sys.path.insert(0, '..')"
   ]
  },
  {
   "cell_type": "code",
   "execution_count": null,
   "id": "86d33b4a-3303-4e83-bc38-d1b9294c9ea6",
   "metadata": {},
   "outputs": [],
   "source": [
    "import duckdb\n",
    "import pandas as pd\n",
    "import geopandas as gpd\n",
    "import matplotlib.pyplot as plt\n",
    "import config\n",
    "import utils"
   ]
  },
  {
   "cell_type": "code",
   "execution_count": null,
   "id": "083ea435-0142-422e-ad30-fcdf8afc4980",
   "metadata": {},
   "outputs": [],
   "source": [
    "# load usgs gages\n",
    "%time\n",
    "gdf = utils.get_usgs_gages()"
   ]
  },
  {
   "cell_type": "code",
   "execution_count": null,
   "id": "ab64c17c-7636-45dd-9054-a71bccdbd533",
   "metadata": {},
   "outputs": [],
   "source": [
    "gdf"
   ]
  },
  {
   "cell_type": "code",
   "execution_count": null,
   "id": "6c7d4a84-6e7b-4fd0-a5e9-4ace4ef940be",
   "metadata": {},
   "outputs": [],
   "source": [
    "gdf.plot(markersize=1.5, figsize=(20,10))"
   ]
  },
  {
   "cell_type": "code",
   "execution_count": null,
   "id": "d61ba799-c546-45d0-80ca-04243a12e61d",
   "metadata": {},
   "outputs": [],
   "source": [
    "# Query some forcast data from parquet files\n",
    "import importlib\n",
    "import queries\n",
    "importlib.reload(queries)"
   ]
  },
  {
   "cell_type": "code",
   "execution_count": null,
   "id": "63bccd8c-af6c-4552-a54e-cbef3071d325",
   "metadata": {},
   "outputs": [],
   "source": [
    "query = queries.calculate_nwm_feature_metrics(\n",
    "    config.MEDIUM_RANGE_PARQUET,\n",
    "    config.USGS_PARQUET,\n",
    "    group_by=[\"nwm_feature_id\"],\n",
    "    order_by=[\"observed_average\"],\n",
    "    filters=[\n",
    "        {\n",
    "            \"column\": \"reference_time\",\n",
    "            \"operator\": \"=\",\n",
    "            \"value\": \"2023-01-03 12:00:00\"\n",
    "        },\n",
    "    ]\n",
    ")\n",
    "print(query)\n",
    "df = duckdb.query(query).to_df()\n",
    "df"
   ]
  },
  {
   "cell_type": "code",
   "execution_count": null,
   "id": "16c4e8a3-6da9-4f55-a30b-631979c0b334",
   "metadata": {},
   "outputs": [],
   "source": [
    "# Join query to basins\n",
    "gdf_map = gdf.merge(df, left_on=\"nwm_feature_id\", right_on=\"nwm_feature_id\")\n",
    "\n",
    "# Filter to CA\n",
    "# gdf_map = gdf_map.loc[gdf_map[\"catchment_id\"].str.startswith(\"18\")]\n",
    "\n",
    "gdf_map.plot(\"observed_average\", legend=True, markersize=1.5, figsize=(20,10))"
   ]
  },
  {
   "cell_type": "code",
   "execution_count": null,
   "id": "52282016-03ec-40da-8c1b-02f165048dae",
   "metadata": {},
   "outputs": [],
   "source": [
    "query = queries.get_joined_nwm_feature_timeseries(\n",
    "    config.MEDIUM_RANGE_PARQUET,\n",
    "    config.USGS_PARQUET,\n",
    "    filters=[\n",
    "        {\n",
    "            \"column\": \"reference_time\",\n",
    "            \"operator\": \"=\",\n",
    "            \"value\": \"2023-01-03 12:00:00\"\n",
    "        },\n",
    "        {\n",
    "            \"column\": \"nwm_feature_id\",\n",
    "            \"operator\": \"=\",\n",
    "            \"value\": \"19266232\"\n",
    "        },\n",
    "    ]\n",
    ")\n",
    "\n",
    "df = duckdb.query(query).to_df()\n",
    "df"
   ]
  },
  {
   "cell_type": "code",
   "execution_count": null,
   "id": "226e22de-f214-46c6-a3f6-116d14ac4cda",
   "metadata": {},
   "outputs": [],
   "source": [
    "ax = plt.gca()\n",
    "df.plot(x= 'value_time', y=\"forecast_value\", ax=ax, figsize=(20,10), color=\"blue\", stacked=True)\n",
    "df.plot(x= 'value_time', y=\"observed_value\", ax=ax, figsize=(20,10), color=\"orange\", stacked=True)"
   ]
  },
  {
   "cell_type": "code",
   "execution_count": null,
   "id": "a3c25064-869d-4323-b788-8fb5826268ea",
   "metadata": {},
   "outputs": [],
   "source": []
  }
 ],
 "metadata": {
  "kernelspec": {
   "display_name": "Python 3 (ipykernel)",
   "language": "python",
   "name": "python3"
  },
  "language_info": {
   "codemirror_mode": {
    "name": "ipython",
    "version": 3
   },
   "file_extension": ".py",
   "mimetype": "text/x-python",
   "name": "python",
   "nbconvert_exporter": "python",
   "pygments_lexer": "ipython3",
   "version": "3.10.8"
  }
 },
 "nbformat": 4,
 "nbformat_minor": 5
}
