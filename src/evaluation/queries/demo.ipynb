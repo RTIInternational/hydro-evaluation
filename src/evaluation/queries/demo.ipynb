{
 "cells": [
  {
   "cell_type": "code",
   "execution_count": null,
   "id": "7bae63f6-3f87-4c8f-a6e6-0b629f21ad56",
   "metadata": {},
   "outputs": [],
   "source": [
    "%%capture\n",
    "!pip install spatialpandas easydev colormap colorcet duckdb dask_geopandas nb_black"
   ]
  },
  {
   "cell_type": "code",
   "execution_count": null,
   "id": "3f0330d6-8d23-4fa1-ae03-41099e2055aa",
   "metadata": {},
   "outputs": [],
   "source": [
    "import os\n",
    "import sys\n",
    "\n",
    "#DATA_DIR = \"/Users/ctownsend/projects/hydro_data/data/studies\"\n",
    "# adding project dirs to path so code may be referenced from the notebook\n",
    "sys.path.insert(0, '../../')\n",
    "sys.path.insert(0, '../../evaluation/')\n",
    "sys.path.insert(0, '../../evaluation/queries/')\n",
    "\n",
    "from evaluation import utils, config\n",
    "import queries\n",
    "import duckdb as ddb"
   ]
  },
  {
   "cell_type": "code",
   "execution_count": null,
   "id": "ff1d90ff-bc6f-411d-b8b7-046f84f014e8",
   "metadata": {},
   "outputs": [],
   "source": [
    "query = f\"\"\"select count(*)\n",
    "        from '{config.MEDIUM_RANGE_FORCING_PARQUET}/*.parquet';\"\"\"\n",
    "df = ddb.query(query).to_df()\n",
    "df"
   ]
  },
  {
   "cell_type": "code",
   "execution_count": null,
   "id": "b3bf2f3c-7fe6-4669-afa5-a3fb366a42af",
   "metadata": {},
   "outputs": [],
   "source": [
    "query = f\"\"\"select count(*)\n",
    "        from '{config.FORCING_ANALYSIS_ASSIM_PARQUET}/*.parquet';\"\"\"\n",
    "df = ddb.query(query).to_df()\n",
    "df"
   ]
  },
  {
   "cell_type": "code",
   "execution_count": null,
   "id": "7f565e17-54b4-430a-882f-f87d1d7c98a1",
   "metadata": {},
   "outputs": [],
   "source": [
    "query = f\"\"\"select count(*)\n",
    "        from '{config.HUC10_PARQUET_FILEPATH}';\"\"\"\n",
    "df = ddb.query(query).to_df()\n",
    "df"
   ]
  },
  {
   "cell_type": "code",
   "execution_count": null,
   "id": "feef2758-ce5f-446d-9ae1-0ad56de7aa17",
   "metadata": {},
   "outputs": [],
   "source": [
    "%%time\n",
    "# query = queries.calculate_catchment_metrics(\n",
    "#     config.MEDIUM_RANGE_FORCING_PARQUET,\n",
    "#     config.FORCING_ANALYSIS_ASSIM_PARQUET,\n",
    "#     group_by=[\"catchment_id\"],\n",
    "#     order_by=[\"observed_average\"],\n",
    "#     filters=[\n",
    "#         {\n",
    "#             \"column\": \"reference_time\",\n",
    "#             \"operator\": \"=\",\n",
    "#             \"value\": \"2023-01-03 12:00:00\"\n",
    "#         },\n",
    "#         {\n",
    "#             \"column\": \"catchment_id\",\n",
    "#             \"operator\": \"like\",\n",
    "#             \"value\": \"18%\"\n",
    "#         }\n",
    "#     ]\n",
    "# )\n",
    "\n",
    "\n",
    "query = queries.calculate_catchment_metrics(\n",
    "    config.MEDIUM_RANGE_FORCING_PARQUET,\n",
    "    config.FORCING_ANALYSIS_ASSIM_PARQUET,\n",
    "    group_by=[\"catchment_id\"],\n",
    "    order_by=[\"observed_average\"],\n",
    "    filters=[\n",
    "        {\n",
    "            \"column\": \"catchment_id\",\n",
    "            \"operator\": \"like\",\n",
    "            \"value\": \"18%\"\n",
    "        },\n",
    "        {\n",
    "            \"column\": \"reference_time\",\n",
    "            \"operator\": \"=\",\n",
    "            \"value\": \"2022-12-25 00:00:00\"\n",
    "        },\n",
    "    ]\n",
    ")\n",
    "\n",
    "query = queries.calculate_catchment_metrics(\n",
    "    config.MEDIUM_RANGE_FORCING_PARQUET,\n",
    "    config.FORCING_ANALYSIS_ASSIM_PARQUET,\n",
    "    group_by=[\"lead_time\"],\n",
    "    order_by=[\"observed_average\"],\n",
    "    filters=[\n",
    "        {\n",
    "            \"column\": \"catchment_id\",\n",
    "            \"operator\": \"like\",\n",
    "            \"value\": \"18%\"\n",
    "        }\n",
    "    ]\n",
    ")\n",
    "\n",
    "query = queries.calculate_catchment_metrics(\n",
    "    config.MEDIUM_RANGE_FORCING_PARQUET,\n",
    "    config.FORCING_ANALYSIS_ASSIM_PARQUET,\n",
    "    group_by=[\"lead_time\"],\n",
    "    order_by=[\"observed_average\"],\n",
    "    filters=[\n",
    "        {\n",
    "            \"column\": \"reference_time\",\n",
    "            \"operator\": \">\",\n",
    "            \"value\": \"2000-01-01 00:00:00\"\n",
    "        }\n",
    "    ]\n",
    ")\n",
    "print(query)\n",
    "df = ddb.query(query).to_df()\n",
    "df"
   ]
  },
  {
   "cell_type": "code",
   "execution_count": null,
   "id": "a3651a66-2aac-47c5-9d8f-1e5043971034",
   "metadata": {},
   "outputs": [],
   "source": []
  }
 ],
 "metadata": {
  "kernelspec": {
   "display_name": "Python 3 (ipykernel)",
   "language": "python",
   "name": "python3"
  },
  "language_info": {
   "codemirror_mode": {
    "name": "ipython",
    "version": 3
   },
   "file_extension": ".py",
   "mimetype": "text/x-python",
   "name": "python",
   "nbconvert_exporter": "python",
   "pygments_lexer": "ipython3",
   "version": "3.10.8"
  }
 },
 "nbformat": 4,
 "nbformat_minor": 5
}
