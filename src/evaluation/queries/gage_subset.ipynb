{
 "cells": [
  {
   "cell_type": "code",
   "execution_count": null,
   "id": "0acff69d-f3b3-41ea-91d5-b98bd320ed5b",
   "metadata": {},
   "outputs": [],
   "source": [
    "!pip install duckdb"
   ]
  },
  {
   "cell_type": "code",
   "execution_count": null,
   "id": "0dadea28-00ed-4284-a6b0-300d8556e6e0",
   "metadata": {},
   "outputs": [],
   "source": [
    "%matplotlib inline\n",
    "\n",
    "# adding project dirs to path so code may be referenced from the notebook\n",
    "import sys\n",
    "sys.path.insert(0, '..')"
   ]
  },
  {
   "cell_type": "code",
   "execution_count": null,
   "id": "2c383f2d-44fa-4df8-ae1d-de4378551bf7",
   "metadata": {},
   "outputs": [],
   "source": [
    "import duckdb\n",
    "import pandas as pd\n",
    "import geopandas as gpd\n",
    "import matplotlib.pyplot as plt\n",
    "import config\n",
    "import utils\n",
    "\n",
    "# Query some forcast data from parquet files\n",
    "import importlib\n",
    "import queries\n",
    "importlib.reload(queries)"
   ]
  },
  {
   "cell_type": "code",
   "execution_count": null,
   "id": "3a544a9f-e1d7-4761-9452-0630ccbe4fb8",
   "metadata": {},
   "outputs": [],
   "source": [
    "# load huc10\n",
    "%time\n",
    "basins_gdf = utils.parquet_to_gdf(config.HUC10_PARQUET_FILEPATH)\n",
    "\n",
    "# Filter to CA\n",
    "ca_gdf = basins_gdf.loc[basins_gdf[\"huc10\"].str.startswith(\"18\")]\n",
    "ca_gdf.plot()"
   ]
  },
  {
   "cell_type": "code",
   "execution_count": null,
   "id": "30f2150a-c52d-4495-bc6e-3922ca3882f4",
   "metadata": {},
   "outputs": [],
   "source": [
    "# load usgs gages\n",
    "%time\n",
    "usgs_gages = utils.get_usgs_gages()"
   ]
  },
  {
   "cell_type": "code",
   "execution_count": null,
   "id": "f2669967-0032-42e2-98a0-820b69db75e2",
   "metadata": {},
   "outputs": [],
   "source": [
    "ca_usgs_gages = gpd.sjoin(usgs_gages, ca_gdf,how='inner', predicate='within')"
   ]
  },
  {
   "cell_type": "code",
   "execution_count": null,
   "id": "01886d74-e386-48c5-a6b2-54517a7e556c",
   "metadata": {},
   "outputs": [],
   "source": [
    "ca_usgs_gages.plot(markersize=1.5)"
   ]
  },
  {
   "cell_type": "code",
   "execution_count": null,
   "id": "65968fe8-f842-457a-97c5-9c0ce8d08eeb",
   "metadata": {},
   "outputs": [],
   "source": [
    "ca_nwm_fids = list(ca_usgs_gages[\"nwm_feature_id\"])"
   ]
  },
  {
   "cell_type": "code",
   "execution_count": null,
   "id": "5c4f1a3d-4883-4503-97b5-9edd76e86750",
   "metadata": {},
   "outputs": [],
   "source": [
    "query = queries.calculate_nwm_feature_metrics(\n",
    "    config.MEDIUM_RANGE_PARQUET,\n",
    "    config.USGS_PARQUET,\n",
    "    group_by=[\"nwm_feature_id\"],\n",
    "    order_by=[\"observed_average\"],\n",
    "    filters=[\n",
    "        {\n",
    "            \"column\": \"reference_time\",\n",
    "            \"operator\": \"=\",\n",
    "            \"value\": \"2023-01-03 12:00:00\"\n",
    "        }\n",
    "    ]\n",
    ")\n",
    "print(query)\n",
    "df = duckdb.query(query).to_df()\n",
    "df"
   ]
  },
  {
   "cell_type": "code",
   "execution_count": null,
   "id": "5c100267-9220-43f1-a99c-bd7bf56eb7c4",
   "metadata": {},
   "outputs": [],
   "source": [
    "# Join query to basins\n",
    "gdf_map = ca_usgs_gages.merge(df, left_on=\"nwm_feature_id\", right_on=\"nwm_feature_id\")\n",
    "\n",
    "gdf_map.plot(\"observed_average\", legend=True, markersize=1.5)"
   ]
  },
  {
   "cell_type": "code",
   "execution_count": null,
   "id": "3464f531-6ec5-47f7-8b90-c35177ed2478",
   "metadata": {},
   "outputs": [],
   "source": []
  }
 ],
 "metadata": {
  "kernelspec": {
   "display_name": "Python 3 (ipykernel)",
   "language": "python",
   "name": "python3"
  },
  "language_info": {
   "codemirror_mode": {
    "name": "ipython",
    "version": 3
   },
   "file_extension": ".py",
   "mimetype": "text/x-python",
   "name": "python",
   "nbconvert_exporter": "python",
   "pygments_lexer": "ipython3",
   "version": "3.10.8"
  }
 },
 "nbformat": 4,
 "nbformat_minor": 5
}
